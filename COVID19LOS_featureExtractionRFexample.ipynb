{
  "nbformat": 4,
  "nbformat_minor": 0,
  "metadata": {
    "colab": {
      "name": "COVID19LOS featureExtractionRFexample.ipynb",
      "provenance": [],
      "toc_visible": true,
      "authorship_tag": "ABX9TyOmouzU7W55CiQmzpD6J4jm",
      "include_colab_link": true
    },
    "kernelspec": {
      "name": "python3",
      "display_name": "Python 3"
    }
  },
  "cells": [
    {
      "cell_type": "markdown",
      "metadata": {
        "id": "view-in-github",
        "colab_type": "text"
      },
      "source": [
        "<a href=\"https://colab.research.google.com/github/fedhere/covid19Vizs/blob/master/COVID19LOS_featureExtractionRFexample.ipynb\" target=\"_parent\"><img src=\"https://colab.research.google.com/assets/colab-badge.svg\" alt=\"Open In Colab\"/></a>"
      ]
    },
    {
      "cell_type": "markdown",
      "metadata": {
        "id": "rBSyFjEhs3Jo"
      },
      "source": [
        "# example of how to use random forest (regressor) and extract important features from the model - authored by @fedhere & @gdobler on 09/2020 for Tze and Keshab LOS analysis"
      ]
    },
    {
      "cell_type": "code",
      "metadata": {
        "id": "yGZrcS56ivJg",
        "outputId": "3ab4bd64-7f41-456e-956e-6e17a38b760f",
        "colab": {
          "base_uri": "https://localhost:8080/",
          "height": 82
        }
      },
      "source": [
        "import pandas as pd\n",
        "import numpy as np\n",
        "import seaborn\n",
        "%pylab inline\n"
      ],
      "execution_count": 116,
      "outputs": [
        {
          "output_type": "stream",
          "text": [
            "Populating the interactive namespace from numpy and matplotlib\n"
          ],
          "name": "stdout"
        },
        {
          "output_type": "stream",
          "text": [
            "/usr/local/lib/python3.6/dist-packages/IPython/core/magics/pylab.py:161: UserWarning: pylab import has clobbered these variables: ['f', 'indices']\n",
            "`%matplotlib` prevents importing * from pylab and numpy\n",
            "  \"\\n`%matplotlib` prevents importing * from pylab and numpy\"\n"
          ],
          "name": "stderr"
        }
      ]
    },
    {
      "cell_type": "markdown",
      "metadata": {
        "id": "6jd8N98y5D13"
      },
      "source": [
        "# creating mock data based on the data dictionary you gave us. "
      ]
    },
    {
      "cell_type": "code",
      "metadata": {
        "id": "h0XcWXic5Ht1",
        "outputId": "86062f8f-1db6-4582-b523-ff42cf3ee16f",
        "colab": {
          "base_uri": "https://localhost:8080/",
          "height": 67
        }
      },
      "source": [
        "mockdatadf = pd.DataFrame(columns=[\"Age\", \"Sex\", \"HX_AIDS\", \"HX_ALCOHOL\", \n",
        "                                  \"HX_ANEMDEF\", \"HX_ARTH\", \"HX_BLDLOSS\", \n",
        "                                  \"HX_CAD\", \"HX_CARDARRH\", \"HX_CHF\", \n",
        "                                  \"HX_CHRNLUNG\", \"HX_COAG\", \"HX_DEPRESS\", \n",
        "                                  \"HX_DM\", \"HX_DMCX\", \"HX_DRUG\", \"HX_HTN\", \n",
        "                                  \"HX_HTNCX\", \"HX_HYPOTHY\", \"HX_LIVER\", \n",
        "                                  \"HX_LYMPH\", \"HX_LYTES\", \"HX_METS\", \"HX_NEURO\", \n",
        "                                  \"HX_OBESE\", \"HX_PARA\", \"HX_PERIVASC\", \n",
        "                                  \"HX_PSYCH\", \"HX_PULMCIRC\", \"HX_RENLFAIL\", \n",
        "                                  \"HX_TUMOR\", \"HX_ULCER\", \"HX_VALVE\", \n",
        "                                  \"HX_WGHTLOSS\"])\n",
        "mockdatadf"
      ],
      "execution_count": 117,
      "outputs": [
        {
          "output_type": "execute_result",
          "data": {
            "text/html": [
              "<div>\n",
              "<style scoped>\n",
              "    .dataframe tbody tr th:only-of-type {\n",
              "        vertical-align: middle;\n",
              "    }\n",
              "\n",
              "    .dataframe tbody tr th {\n",
              "        vertical-align: top;\n",
              "    }\n",
              "\n",
              "    .dataframe thead th {\n",
              "        text-align: right;\n",
              "    }\n",
              "</style>\n",
              "<table border=\"1\" class=\"dataframe\">\n",
              "  <thead>\n",
              "    <tr style=\"text-align: right;\">\n",
              "      <th></th>\n",
              "      <th>Age</th>\n",
              "      <th>Sex</th>\n",
              "      <th>HX_AIDS</th>\n",
              "      <th>HX_ALCOHOL</th>\n",
              "      <th>HX_ANEMDEF</th>\n",
              "      <th>HX_ARTH</th>\n",
              "      <th>HX_BLDLOSS</th>\n",
              "      <th>HX_CAD</th>\n",
              "      <th>HX_CARDARRH</th>\n",
              "      <th>HX_CHF</th>\n",
              "      <th>HX_CHRNLUNG</th>\n",
              "      <th>HX_COAG</th>\n",
              "      <th>HX_DEPRESS</th>\n",
              "      <th>HX_DM</th>\n",
              "      <th>HX_DMCX</th>\n",
              "      <th>HX_DRUG</th>\n",
              "      <th>HX_HTN</th>\n",
              "      <th>HX_HTNCX</th>\n",
              "      <th>HX_HYPOTHY</th>\n",
              "      <th>HX_LIVER</th>\n",
              "      <th>HX_LYMPH</th>\n",
              "      <th>HX_LYTES</th>\n",
              "      <th>HX_METS</th>\n",
              "      <th>HX_NEURO</th>\n",
              "      <th>HX_OBESE</th>\n",
              "      <th>HX_PARA</th>\n",
              "      <th>HX_PERIVASC</th>\n",
              "      <th>HX_PSYCH</th>\n",
              "      <th>HX_PULMCIRC</th>\n",
              "      <th>HX_RENLFAIL</th>\n",
              "      <th>HX_TUMOR</th>\n",
              "      <th>HX_ULCER</th>\n",
              "      <th>HX_VALVE</th>\n",
              "      <th>HX_WGHTLOSS</th>\n",
              "    </tr>\n",
              "  </thead>\n",
              "  <tbody>\n",
              "  </tbody>\n",
              "</table>\n",
              "</div>"
            ],
            "text/plain": [
              "Empty DataFrame\n",
              "Columns: [Age, Sex, HX_AIDS, HX_ALCOHOL, HX_ANEMDEF, HX_ARTH, HX_BLDLOSS, HX_CAD, HX_CARDARRH, HX_CHF, HX_CHRNLUNG, HX_COAG, HX_DEPRESS, HX_DM, HX_DMCX, HX_DRUG, HX_HTN, HX_HTNCX, HX_HYPOTHY, HX_LIVER, HX_LYMPH, HX_LYTES, HX_METS, HX_NEURO, HX_OBESE, HX_PARA, HX_PERIVASC, HX_PSYCH, HX_PULMCIRC, HX_RENLFAIL, HX_TUMOR, HX_ULCER, HX_VALVE, HX_WGHTLOSS]\n",
              "Index: []"
            ]
          },
          "metadata": {
            "tags": []
          },
          "execution_count": 117
        }
      ]
    },
    {
      "cell_type": "code",
      "metadata": {
        "id": "iWcb5ymu7eoe"
      },
      "source": [
        "np.random.seed(302)\n",
        "tmp_ = np.random.randn(1400) * 15 + 60\n",
        "tmp_ = tmp_[(tmp_ >= 18) & (tmp_ <= 100)]\n",
        "\n",
        "mockdatadf[\"Age\"] = tmp_[:700].astype(int)\n",
        "\n",
        "for c in mockdatadf.columns[1:]:\n",
        "  mockdatadf[c] = np.random.randint(0, 2, 700)\n",
        "\n",
        "#made a target variable that depends only on age and hypertension\n",
        "mockdatadf[\"LOS\"] = (\n",
        "    mockdatadf.Age**2 * 0.005 + mockdatadf.HX_HTN * 6).astype(int)"
      ],
      "execution_count": 118,
      "outputs": []
    },
    {
      "cell_type": "code",
      "metadata": {
        "id": "WAg9gmfwpmpf",
        "outputId": "2e1c36aa-5605-45a9-e0c0-3d43415fe666",
        "colab": {
          "base_uri": "https://localhost:8080/",
          "height": 211
        }
      },
      "source": [
        "mockdatadf.head()"
      ],
      "execution_count": 119,
      "outputs": [
        {
          "output_type": "execute_result",
          "data": {
            "text/html": [
              "<div>\n",
              "<style scoped>\n",
              "    .dataframe tbody tr th:only-of-type {\n",
              "        vertical-align: middle;\n",
              "    }\n",
              "\n",
              "    .dataframe tbody tr th {\n",
              "        vertical-align: top;\n",
              "    }\n",
              "\n",
              "    .dataframe thead th {\n",
              "        text-align: right;\n",
              "    }\n",
              "</style>\n",
              "<table border=\"1\" class=\"dataframe\">\n",
              "  <thead>\n",
              "    <tr style=\"text-align: right;\">\n",
              "      <th></th>\n",
              "      <th>Age</th>\n",
              "      <th>Sex</th>\n",
              "      <th>HX_AIDS</th>\n",
              "      <th>HX_ALCOHOL</th>\n",
              "      <th>HX_ANEMDEF</th>\n",
              "      <th>HX_ARTH</th>\n",
              "      <th>HX_BLDLOSS</th>\n",
              "      <th>HX_CAD</th>\n",
              "      <th>HX_CARDARRH</th>\n",
              "      <th>HX_CHF</th>\n",
              "      <th>HX_CHRNLUNG</th>\n",
              "      <th>HX_COAG</th>\n",
              "      <th>HX_DEPRESS</th>\n",
              "      <th>HX_DM</th>\n",
              "      <th>HX_DMCX</th>\n",
              "      <th>HX_DRUG</th>\n",
              "      <th>HX_HTN</th>\n",
              "      <th>HX_HTNCX</th>\n",
              "      <th>HX_HYPOTHY</th>\n",
              "      <th>HX_LIVER</th>\n",
              "      <th>HX_LYMPH</th>\n",
              "      <th>HX_LYTES</th>\n",
              "      <th>HX_METS</th>\n",
              "      <th>HX_NEURO</th>\n",
              "      <th>HX_OBESE</th>\n",
              "      <th>HX_PARA</th>\n",
              "      <th>HX_PERIVASC</th>\n",
              "      <th>HX_PSYCH</th>\n",
              "      <th>HX_PULMCIRC</th>\n",
              "      <th>HX_RENLFAIL</th>\n",
              "      <th>HX_TUMOR</th>\n",
              "      <th>HX_ULCER</th>\n",
              "      <th>HX_VALVE</th>\n",
              "      <th>HX_WGHTLOSS</th>\n",
              "      <th>LOS</th>\n",
              "    </tr>\n",
              "  </thead>\n",
              "  <tbody>\n",
              "    <tr>\n",
              "      <th>0</th>\n",
              "      <td>76</td>\n",
              "      <td>0</td>\n",
              "      <td>0</td>\n",
              "      <td>0</td>\n",
              "      <td>0</td>\n",
              "      <td>1</td>\n",
              "      <td>0</td>\n",
              "      <td>0</td>\n",
              "      <td>1</td>\n",
              "      <td>0</td>\n",
              "      <td>0</td>\n",
              "      <td>0</td>\n",
              "      <td>0</td>\n",
              "      <td>0</td>\n",
              "      <td>1</td>\n",
              "      <td>1</td>\n",
              "      <td>0</td>\n",
              "      <td>0</td>\n",
              "      <td>0</td>\n",
              "      <td>0</td>\n",
              "      <td>0</td>\n",
              "      <td>0</td>\n",
              "      <td>0</td>\n",
              "      <td>0</td>\n",
              "      <td>1</td>\n",
              "      <td>1</td>\n",
              "      <td>0</td>\n",
              "      <td>1</td>\n",
              "      <td>0</td>\n",
              "      <td>1</td>\n",
              "      <td>1</td>\n",
              "      <td>1</td>\n",
              "      <td>0</td>\n",
              "      <td>0</td>\n",
              "      <td>28</td>\n",
              "    </tr>\n",
              "    <tr>\n",
              "      <th>1</th>\n",
              "      <td>66</td>\n",
              "      <td>0</td>\n",
              "      <td>0</td>\n",
              "      <td>1</td>\n",
              "      <td>0</td>\n",
              "      <td>1</td>\n",
              "      <td>1</td>\n",
              "      <td>1</td>\n",
              "      <td>0</td>\n",
              "      <td>1</td>\n",
              "      <td>0</td>\n",
              "      <td>0</td>\n",
              "      <td>0</td>\n",
              "      <td>0</td>\n",
              "      <td>0</td>\n",
              "      <td>0</td>\n",
              "      <td>0</td>\n",
              "      <td>0</td>\n",
              "      <td>0</td>\n",
              "      <td>0</td>\n",
              "      <td>0</td>\n",
              "      <td>0</td>\n",
              "      <td>0</td>\n",
              "      <td>0</td>\n",
              "      <td>0</td>\n",
              "      <td>1</td>\n",
              "      <td>1</td>\n",
              "      <td>0</td>\n",
              "      <td>0</td>\n",
              "      <td>0</td>\n",
              "      <td>0</td>\n",
              "      <td>0</td>\n",
              "      <td>1</td>\n",
              "      <td>1</td>\n",
              "      <td>21</td>\n",
              "    </tr>\n",
              "    <tr>\n",
              "      <th>2</th>\n",
              "      <td>78</td>\n",
              "      <td>0</td>\n",
              "      <td>0</td>\n",
              "      <td>0</td>\n",
              "      <td>0</td>\n",
              "      <td>0</td>\n",
              "      <td>1</td>\n",
              "      <td>0</td>\n",
              "      <td>1</td>\n",
              "      <td>1</td>\n",
              "      <td>1</td>\n",
              "      <td>0</td>\n",
              "      <td>1</td>\n",
              "      <td>1</td>\n",
              "      <td>0</td>\n",
              "      <td>1</td>\n",
              "      <td>0</td>\n",
              "      <td>0</td>\n",
              "      <td>1</td>\n",
              "      <td>0</td>\n",
              "      <td>1</td>\n",
              "      <td>1</td>\n",
              "      <td>0</td>\n",
              "      <td>0</td>\n",
              "      <td>1</td>\n",
              "      <td>0</td>\n",
              "      <td>0</td>\n",
              "      <td>0</td>\n",
              "      <td>0</td>\n",
              "      <td>1</td>\n",
              "      <td>0</td>\n",
              "      <td>0</td>\n",
              "      <td>1</td>\n",
              "      <td>1</td>\n",
              "      <td>30</td>\n",
              "    </tr>\n",
              "    <tr>\n",
              "      <th>3</th>\n",
              "      <td>47</td>\n",
              "      <td>0</td>\n",
              "      <td>0</td>\n",
              "      <td>1</td>\n",
              "      <td>0</td>\n",
              "      <td>0</td>\n",
              "      <td>1</td>\n",
              "      <td>0</td>\n",
              "      <td>0</td>\n",
              "      <td>0</td>\n",
              "      <td>0</td>\n",
              "      <td>1</td>\n",
              "      <td>0</td>\n",
              "      <td>1</td>\n",
              "      <td>1</td>\n",
              "      <td>0</td>\n",
              "      <td>1</td>\n",
              "      <td>1</td>\n",
              "      <td>0</td>\n",
              "      <td>1</td>\n",
              "      <td>1</td>\n",
              "      <td>0</td>\n",
              "      <td>0</td>\n",
              "      <td>0</td>\n",
              "      <td>0</td>\n",
              "      <td>0</td>\n",
              "      <td>0</td>\n",
              "      <td>0</td>\n",
              "      <td>1</td>\n",
              "      <td>0</td>\n",
              "      <td>0</td>\n",
              "      <td>0</td>\n",
              "      <td>0</td>\n",
              "      <td>1</td>\n",
              "      <td>17</td>\n",
              "    </tr>\n",
              "    <tr>\n",
              "      <th>4</th>\n",
              "      <td>96</td>\n",
              "      <td>0</td>\n",
              "      <td>0</td>\n",
              "      <td>1</td>\n",
              "      <td>0</td>\n",
              "      <td>0</td>\n",
              "      <td>0</td>\n",
              "      <td>1</td>\n",
              "      <td>1</td>\n",
              "      <td>1</td>\n",
              "      <td>0</td>\n",
              "      <td>1</td>\n",
              "      <td>0</td>\n",
              "      <td>0</td>\n",
              "      <td>0</td>\n",
              "      <td>0</td>\n",
              "      <td>1</td>\n",
              "      <td>1</td>\n",
              "      <td>0</td>\n",
              "      <td>0</td>\n",
              "      <td>1</td>\n",
              "      <td>0</td>\n",
              "      <td>1</td>\n",
              "      <td>1</td>\n",
              "      <td>1</td>\n",
              "      <td>1</td>\n",
              "      <td>0</td>\n",
              "      <td>0</td>\n",
              "      <td>0</td>\n",
              "      <td>1</td>\n",
              "      <td>1</td>\n",
              "      <td>0</td>\n",
              "      <td>1</td>\n",
              "      <td>1</td>\n",
              "      <td>52</td>\n",
              "    </tr>\n",
              "  </tbody>\n",
              "</table>\n",
              "</div>"
            ],
            "text/plain": [
              "   Age  Sex  HX_AIDS  HX_ALCOHOL  ...  HX_ULCER  HX_VALVE  HX_WGHTLOSS  LOS\n",
              "0   76    0        0           0  ...         1         0            0   28\n",
              "1   66    0        0           1  ...         0         1            1   21\n",
              "2   78    0        0           0  ...         0         1            1   30\n",
              "3   47    0        0           1  ...         0         0            1   17\n",
              "4   96    0        0           1  ...         0         1            1   52\n",
              "\n",
              "[5 rows x 35 columns]"
            ]
          },
          "metadata": {
            "tags": []
          },
          "execution_count": 119
        }
      ]
    },
    {
      "cell_type": "code",
      "metadata": {
        "id": "A6u8lK0RrZn1",
        "outputId": "3b3b0a41-c0b9-4fe3-c856-797ac22f86f9",
        "colab": {
          "base_uri": "https://localhost:8080/",
          "height": 211
        }
      },
      "source": [
        "mockdatadf.tail()"
      ],
      "execution_count": 120,
      "outputs": [
        {
          "output_type": "execute_result",
          "data": {
            "text/html": [
              "<div>\n",
              "<style scoped>\n",
              "    .dataframe tbody tr th:only-of-type {\n",
              "        vertical-align: middle;\n",
              "    }\n",
              "\n",
              "    .dataframe tbody tr th {\n",
              "        vertical-align: top;\n",
              "    }\n",
              "\n",
              "    .dataframe thead th {\n",
              "        text-align: right;\n",
              "    }\n",
              "</style>\n",
              "<table border=\"1\" class=\"dataframe\">\n",
              "  <thead>\n",
              "    <tr style=\"text-align: right;\">\n",
              "      <th></th>\n",
              "      <th>Age</th>\n",
              "      <th>Sex</th>\n",
              "      <th>HX_AIDS</th>\n",
              "      <th>HX_ALCOHOL</th>\n",
              "      <th>HX_ANEMDEF</th>\n",
              "      <th>HX_ARTH</th>\n",
              "      <th>HX_BLDLOSS</th>\n",
              "      <th>HX_CAD</th>\n",
              "      <th>HX_CARDARRH</th>\n",
              "      <th>HX_CHF</th>\n",
              "      <th>HX_CHRNLUNG</th>\n",
              "      <th>HX_COAG</th>\n",
              "      <th>HX_DEPRESS</th>\n",
              "      <th>HX_DM</th>\n",
              "      <th>HX_DMCX</th>\n",
              "      <th>HX_DRUG</th>\n",
              "      <th>HX_HTN</th>\n",
              "      <th>HX_HTNCX</th>\n",
              "      <th>HX_HYPOTHY</th>\n",
              "      <th>HX_LIVER</th>\n",
              "      <th>HX_LYMPH</th>\n",
              "      <th>HX_LYTES</th>\n",
              "      <th>HX_METS</th>\n",
              "      <th>HX_NEURO</th>\n",
              "      <th>HX_OBESE</th>\n",
              "      <th>HX_PARA</th>\n",
              "      <th>HX_PERIVASC</th>\n",
              "      <th>HX_PSYCH</th>\n",
              "      <th>HX_PULMCIRC</th>\n",
              "      <th>HX_RENLFAIL</th>\n",
              "      <th>HX_TUMOR</th>\n",
              "      <th>HX_ULCER</th>\n",
              "      <th>HX_VALVE</th>\n",
              "      <th>HX_WGHTLOSS</th>\n",
              "      <th>LOS</th>\n",
              "    </tr>\n",
              "  </thead>\n",
              "  <tbody>\n",
              "    <tr>\n",
              "      <th>695</th>\n",
              "      <td>71</td>\n",
              "      <td>1</td>\n",
              "      <td>0</td>\n",
              "      <td>0</td>\n",
              "      <td>0</td>\n",
              "      <td>1</td>\n",
              "      <td>1</td>\n",
              "      <td>1</td>\n",
              "      <td>1</td>\n",
              "      <td>1</td>\n",
              "      <td>1</td>\n",
              "      <td>0</td>\n",
              "      <td>1</td>\n",
              "      <td>0</td>\n",
              "      <td>0</td>\n",
              "      <td>0</td>\n",
              "      <td>1</td>\n",
              "      <td>1</td>\n",
              "      <td>1</td>\n",
              "      <td>1</td>\n",
              "      <td>0</td>\n",
              "      <td>1</td>\n",
              "      <td>0</td>\n",
              "      <td>1</td>\n",
              "      <td>1</td>\n",
              "      <td>1</td>\n",
              "      <td>0</td>\n",
              "      <td>1</td>\n",
              "      <td>0</td>\n",
              "      <td>0</td>\n",
              "      <td>1</td>\n",
              "      <td>1</td>\n",
              "      <td>1</td>\n",
              "      <td>0</td>\n",
              "      <td>31</td>\n",
              "    </tr>\n",
              "    <tr>\n",
              "      <th>696</th>\n",
              "      <td>63</td>\n",
              "      <td>1</td>\n",
              "      <td>0</td>\n",
              "      <td>1</td>\n",
              "      <td>1</td>\n",
              "      <td>0</td>\n",
              "      <td>0</td>\n",
              "      <td>0</td>\n",
              "      <td>1</td>\n",
              "      <td>0</td>\n",
              "      <td>1</td>\n",
              "      <td>1</td>\n",
              "      <td>1</td>\n",
              "      <td>0</td>\n",
              "      <td>0</td>\n",
              "      <td>0</td>\n",
              "      <td>1</td>\n",
              "      <td>0</td>\n",
              "      <td>1</td>\n",
              "      <td>0</td>\n",
              "      <td>0</td>\n",
              "      <td>0</td>\n",
              "      <td>0</td>\n",
              "      <td>0</td>\n",
              "      <td>0</td>\n",
              "      <td>1</td>\n",
              "      <td>0</td>\n",
              "      <td>0</td>\n",
              "      <td>1</td>\n",
              "      <td>1</td>\n",
              "      <td>0</td>\n",
              "      <td>0</td>\n",
              "      <td>1</td>\n",
              "      <td>0</td>\n",
              "      <td>25</td>\n",
              "    </tr>\n",
              "    <tr>\n",
              "      <th>697</th>\n",
              "      <td>41</td>\n",
              "      <td>1</td>\n",
              "      <td>1</td>\n",
              "      <td>0</td>\n",
              "      <td>1</td>\n",
              "      <td>0</td>\n",
              "      <td>0</td>\n",
              "      <td>0</td>\n",
              "      <td>0</td>\n",
              "      <td>0</td>\n",
              "      <td>1</td>\n",
              "      <td>0</td>\n",
              "      <td>0</td>\n",
              "      <td>1</td>\n",
              "      <td>0</td>\n",
              "      <td>1</td>\n",
              "      <td>1</td>\n",
              "      <td>1</td>\n",
              "      <td>0</td>\n",
              "      <td>0</td>\n",
              "      <td>1</td>\n",
              "      <td>0</td>\n",
              "      <td>0</td>\n",
              "      <td>1</td>\n",
              "      <td>0</td>\n",
              "      <td>0</td>\n",
              "      <td>0</td>\n",
              "      <td>1</td>\n",
              "      <td>0</td>\n",
              "      <td>1</td>\n",
              "      <td>0</td>\n",
              "      <td>1</td>\n",
              "      <td>1</td>\n",
              "      <td>0</td>\n",
              "      <td>14</td>\n",
              "    </tr>\n",
              "    <tr>\n",
              "      <th>698</th>\n",
              "      <td>53</td>\n",
              "      <td>0</td>\n",
              "      <td>0</td>\n",
              "      <td>1</td>\n",
              "      <td>0</td>\n",
              "      <td>1</td>\n",
              "      <td>1</td>\n",
              "      <td>0</td>\n",
              "      <td>1</td>\n",
              "      <td>0</td>\n",
              "      <td>0</td>\n",
              "      <td>0</td>\n",
              "      <td>0</td>\n",
              "      <td>0</td>\n",
              "      <td>1</td>\n",
              "      <td>1</td>\n",
              "      <td>0</td>\n",
              "      <td>1</td>\n",
              "      <td>1</td>\n",
              "      <td>1</td>\n",
              "      <td>1</td>\n",
              "      <td>1</td>\n",
              "      <td>0</td>\n",
              "      <td>1</td>\n",
              "      <td>0</td>\n",
              "      <td>0</td>\n",
              "      <td>1</td>\n",
              "      <td>0</td>\n",
              "      <td>0</td>\n",
              "      <td>1</td>\n",
              "      <td>1</td>\n",
              "      <td>1</td>\n",
              "      <td>0</td>\n",
              "      <td>1</td>\n",
              "      <td>14</td>\n",
              "    </tr>\n",
              "    <tr>\n",
              "      <th>699</th>\n",
              "      <td>62</td>\n",
              "      <td>1</td>\n",
              "      <td>1</td>\n",
              "      <td>0</td>\n",
              "      <td>0</td>\n",
              "      <td>0</td>\n",
              "      <td>1</td>\n",
              "      <td>0</td>\n",
              "      <td>1</td>\n",
              "      <td>0</td>\n",
              "      <td>0</td>\n",
              "      <td>0</td>\n",
              "      <td>0</td>\n",
              "      <td>1</td>\n",
              "      <td>1</td>\n",
              "      <td>1</td>\n",
              "      <td>1</td>\n",
              "      <td>1</td>\n",
              "      <td>1</td>\n",
              "      <td>0</td>\n",
              "      <td>0</td>\n",
              "      <td>1</td>\n",
              "      <td>1</td>\n",
              "      <td>1</td>\n",
              "      <td>1</td>\n",
              "      <td>0</td>\n",
              "      <td>0</td>\n",
              "      <td>1</td>\n",
              "      <td>0</td>\n",
              "      <td>1</td>\n",
              "      <td>0</td>\n",
              "      <td>0</td>\n",
              "      <td>1</td>\n",
              "      <td>0</td>\n",
              "      <td>25</td>\n",
              "    </tr>\n",
              "  </tbody>\n",
              "</table>\n",
              "</div>"
            ],
            "text/plain": [
              "     Age  Sex  HX_AIDS  HX_ALCOHOL  ...  HX_ULCER  HX_VALVE  HX_WGHTLOSS  LOS\n",
              "695   71    1        0           0  ...         1         1            0   31\n",
              "696   63    1        0           1  ...         0         1            0   25\n",
              "697   41    1        1           0  ...         1         1            0   14\n",
              "698   53    0        0           1  ...         1         0            1   14\n",
              "699   62    1        1           0  ...         0         1            0   25\n",
              "\n",
              "[5 rows x 35 columns]"
            ]
          },
          "metadata": {
            "tags": []
          },
          "execution_count": 120
        }
      ]
    },
    {
      "cell_type": "code",
      "metadata": {
        "id": "nCgB0hBI96_0",
        "outputId": "34e83355-615d-40b3-c5be-4eafed64171e",
        "colab": {
          "base_uri": "https://localhost:8080/",
          "height": 278
        }
      },
      "source": [
        "ax = mockdatadf.Age.hist();\n",
        "ax.set_xlabel(\"Age\");"
      ],
      "execution_count": 121,
      "outputs": [
        {
          "output_type": "display_data",
          "data": {
            "image/png": "[encoded data removed]",
            "text/plain": [
              "<Figure size 432x288 with 1 Axes>"
            ]
          },
          "metadata": {
            "tags": [],
            "needs_background": "light"
          }
        }
      ]
    },
    {
      "cell_type": "code",
      "metadata": {
        "id": "l8FA9jkN_qu7",
        "outputId": "ed1512a5-543c-4fe5-bf76-06b018d85531",
        "colab": {
          "base_uri": "https://localhost:8080/",
          "height": 278
        }
      },
      "source": [
        "ax = mockdatadf.LOS.hist();\n",
        "ax.set_xlabel(\"LOS (days)\");"
      ],
      "execution_count": 122,
      "outputs": [
        {
          "output_type": "display_data",
          "data": {
            "image/png": "[encoded data removed]",
            "text/plain": [
              "<Figure size 432x288 with 1 Axes>"
            ]
          },
          "metadata": {
            "tags": [],
            "needs_background": "light"
          }
        }
      ]
    },
    {
      "cell_type": "code",
      "metadata": {
        "id": "cMyF0S3__5wx",
        "outputId": "c895e769-e39c-4fca-dd8a-d2eda8eab219",
        "colab": {
          "base_uri": "https://localhost:8080/",
          "height": 257
        }
      },
      "source": [
        "mockdatadf.plot.scatter(x=\"Age\", y=\"LOS\", c=\"HX_HTN\", cmap=\"viridis\");\n",
        "ax.set_ylabel(\"LOS (days)\");\n",
        "ax.set_xlabel(\"Age\");"
      ],
      "execution_count": 123,
      "outputs": [
        {
          "output_type": "display_data",
          "data": {
            "image/png": "[encoded data removed]",
            "text/plain": [
              "<Figure size 432x288 with 2 Axes>"
            ]
          },
          "metadata": {
            "tags": [],
            "needs_background": "light"
          }
        }
      ]
    },
    {
      "cell_type": "code",
      "metadata": {
        "id": "0NFlrCXZDxgm"
      },
      "source": [
        "# creating a cmpletely covariant feature: setting obesity to be equal to hypertension\n",
        "\n",
        "mockdatadf[\"HX_OBESE\"] = mockdatadf[\"HX_HTN\"]"
      ],
      "execution_count": 124,
      "outputs": []
    },
    {
      "cell_type": "code",
      "metadata": {
        "id": "efjCvhF3wFgA",
        "outputId": "ea277b3f-8635-40f3-8a2f-c661ae7e5c3a",
        "colab": {
          "base_uri": "https://localhost:8080/",
          "height": 33
        }
      },
      "source": [
        "nrows, ncols = mockdatadf.shape\n",
        "print(\"The shape of the dataframe is nrows: {}, ncolumns: {}\".format(*mockdatadf.shape))"
      ],
      "execution_count": 125,
      "outputs": [
        {
          "output_type": "stream",
          "text": [
            "The shape of the dataframe is nrows: 700, ncolumns: 35\n"
          ],
          "name": "stdout"
        }
      ]
    },
    {
      "cell_type": "code",
      "metadata": {
        "id": "t3BrjLL4vLFB",
        "outputId": "961681b0-61a6-46c6-a0f5-c467724d23a0",
        "colab": {
          "base_uri": "https://localhost:8080/",
          "height": 33
        }
      },
      "source": [
        "# quick data cleaning: remove NaN (we have none)\n",
        "# note that this drops the entire row if there is a NaN. we can modify it if you want to drop the column or replace the cell value\n",
        "mockdatadf.dropna(inplace=True)\n",
        "mockdatadf.shape"
      ],
      "execution_count": 126,
      "outputs": [
        {
          "output_type": "execute_result",
          "data": {
            "text/plain": [
              "(700, 35)"
            ]
          },
          "metadata": {
            "tags": []
          },
          "execution_count": 126
        }
      ]
    },
    {
      "cell_type": "code",
      "metadata": {
        "id": "g8PEFIbqwbzA",
        "outputId": "acbbc267-783a-4bdf-ce32-a34c8ae428a1",
        "colab": {
          "base_uri": "https://localhost:8080/",
          "height": 33
        }
      },
      "source": [
        "print(\"I lost {} observations in cleaning, {:.0f}% of the dataset\".format(nrows - mockdatadf.shape[0], (nrows - mockdatadf.shape[0]) / nrows * 100))"
      ],
      "execution_count": 127,
      "outputs": [
        {
          "output_type": "stream",
          "text": [
            "I lost 0 observations in cleaning, 0% of the dataset\n"
          ],
          "name": "stdout"
        }
      ]
    },
    {
      "cell_type": "markdown",
      "metadata": {
        "id": "Fx_acmXKru1W"
      },
      "source": [
        "because i want to predict the LOS cases in this mock example, I will use the random forest regression model in sklearn ```RandomForestRegressor```. If I had a binary target variable (e.g. the death outcome) then I would use the random forest classifier model ```RandomForestClassifier```"
      ]
    },
    {
      "cell_type": "code",
      "metadata": {
        "id": "F6GyCLFKra4o"
      },
      "source": [
        "from sklearn.ensemble import RandomForestRegressor\n",
        "# look here for usage  https://scikit-learn.org/stable/modules/generated/sklearn.ensemble.RandomForestRegressor.html"
      ],
      "execution_count": 128,
      "outputs": []
    },
    {
      "cell_type": "code",
      "metadata": {
        "id": "31852F3AyW-O"
      },
      "source": [
        "# i need to normalize the target variable so i can use the mean sq error as a diagnostic for model success\n",
        "targetmean, targetstd = mockdatadf.LOS.mean(), mockdatadf.LOS.std()"
      ],
      "execution_count": 129,
      "outputs": []
    },
    {
      "cell_type": "code",
      "metadata": {
        "id": "xW6WH5X_z5jp",
        "outputId": "58796b9d-d4f8-435b-80c0-c93d08ff285b",
        "colab": {
          "base_uri": "https://localhost:8080/",
          "height": 228
        }
      },
      "source": [
        "pd.qcut( mockdatadf[\"LOS\"], [0, .25, .5, .75, 1.]).astype('category')"
      ],
      "execution_count": 130,
      "outputs": [
        {
          "output_type": "execute_result",
          "data": {
            "text/plain": [
              "0       (27.0, 53.0]\n",
              "1       (20.0, 27.0]\n",
              "2       (27.0, 53.0]\n",
              "3       (14.0, 20.0]\n",
              "4       (27.0, 53.0]\n",
              "           ...      \n",
              "695     (27.0, 53.0]\n",
              "696     (20.0, 27.0]\n",
              "697    (0.999, 14.0]\n",
              "698    (0.999, 14.0]\n",
              "699     (20.0, 27.0]\n",
              "Name: LOS, Length: 700, dtype: category\n",
              "Categories (4, interval[float64]): [(0.999, 14.0] < (14.0, 20.0] < (20.0, 27.0] < (27.0, 53.0]]"
            ]
          },
          "metadata": {
            "tags": []
          },
          "execution_count": 130
        }
      ]
    },
    {
      "cell_type": "code",
      "metadata": {
        "id": "yw7syM4vrkcL"
      },
      "source": [
        "# I don't need to worry a lot about standardizing the features in a random forest because each feature is treated separately. \n",
        "# Models that combine features mathematically require the features to be standardized (or ideally whitened to remove correlation)\n",
        "# But random forest implement decisions on a single feature at a time: its a family of independent binary decision trees\n",
        "\n",
        "# splitting into training ant test set (80% training, 20% test)\n",
        "\n",
        "features = mockdatadf.drop([\"LOS\"], axis=1)\n",
        "target = (mockdatadf.LOS - targetmean) / targetstd\n",
        "\n",
        "from sklearn.model_selection import train_test_split\n",
        "X_train, X_test, y_train, y_test = train_test_split(\n",
        "  features, target, test_size=0.2, random_state=302)\n",
        "\n"
      ],
      "execution_count": 131,
      "outputs": []
    },
    {
      "cell_type": "code",
      "metadata": {
        "id": "4SDE-X8TuaLT",
        "outputId": "26f2faef-d325-4d8b-e610-0c2f59ed8767",
        "colab": {
          "base_uri": "https://localhost:8080/",
          "height": 131
        }
      },
      "source": [
        "# control the depth of each tree in the forest to avoid overfitting\n",
        "regr = RandomForestRegressor(max_depth=3, random_state=302)\n",
        "regr.fit(X_train, y_train)\n"
      ],
      "execution_count": 132,
      "outputs": [
        {
          "output_type": "execute_result",
          "data": {
            "text/plain": [
              "RandomForestRegressor(bootstrap=True, ccp_alpha=0.0, criterion='mse',\n",
              "                      max_depth=3, max_features='auto', max_leaf_nodes=None,\n",
              "                      max_samples=None, min_impurity_decrease=0.0,\n",
              "                      min_impurity_split=None, min_samples_leaf=1,\n",
              "                      min_samples_split=2, min_weight_fraction_leaf=0.0,\n",
              "                      n_estimators=100, n_jobs=None, oob_score=False,\n",
              "                      random_state=302, verbose=0, warm_start=False)"
            ]
          },
          "metadata": {
            "tags": []
          },
          "execution_count": 132
        }
      ]
    },
    {
      "cell_type": "code",
      "metadata": {
        "id": "lNoDYC2guuzc",
        "outputId": "7fbe6a1e-289a-432a-8f50-6151af172494",
        "colab": {
          "base_uri": "https://localhost:8080/",
          "height": 50
        }
      },
      "source": [
        "from sklearn.metrics import mean_squared_error\n",
        "mse_tr = mean_squared_error(y_train, regr.predict(X_train))\n",
        "mse = mean_squared_error(y_test, regr.predict(X_test))\n",
        "\n",
        "print(\"mean sq error of the model on training data {:.2f} ({:.0f}%)\".format(\n",
        "    mse_tr, mse_tr * 100))\n",
        "\n",
        "print(\"mean sq error of the model on test data {:.2f} ({:.0f}%)\".format(\n",
        "    mse, mse * 100))\n"
      ],
      "execution_count": 133,
      "outputs": [
        {
          "output_type": "stream",
          "text": [
            "mean sq error of the model on training data 0.05 (5%)\n",
            "mean sq error of the model on test data 0.05 (5%)\n"
          ],
          "name": "stdout"
        }
      ]
    },
    {
      "cell_type": "code",
      "metadata": {
        "id": "wjfTvp8GxSpq",
        "outputId": "0767d544-19eb-4fc3-8511-2d45495b61e9",
        "colab": {
          "base_uri": "https://localhost:8080/",
          "height": 163
        }
      },
      "source": [
        "# If I wanted the predictions I would do \n",
        "(regr.predict(X_test) * targetstd + targetmean).astype(int)"
      ],
      "execution_count": 134,
      "outputs": [
        {
          "output_type": "execute_result",
          "data": {
            "text/plain": [
              "array([17, 31, 23, 10, 11, 31, 38, 13, 11, 38, 35, 15, 23, 23, 26, 26, 22,\n",
              "       30, 23, 26, 25,  8, 13, 17, 26, 17, 23, 30,  8,  9, 33, 24, 26, 17,\n",
              "       10, 10, 26, 17, 11, 11, 17, 18, 11, 17, 11, 23, 17, 22, 11, 16, 11,\n",
              "       17, 24, 17, 26, 24, 15, 16, 13, 38, 23, 23, 13, 13, 13, 17, 16, 23,\n",
              "       11, 10, 24,  9, 11, 31, 23, 18, 13, 10, 23, 17,  8, 11, 18, 23, 23,\n",
              "       15, 26, 15, 18, 18, 17,  9, 21, 18, 13,  9, 24, 48,  9, 13, 18, 11,\n",
              "       38, 18, 31, 13, 23,  8, 23, 10,  9,  9, 13, 35, 17, 17, 11, 23, 13,\n",
              "       21, 18,  8, 21, 35, 18, 13,  8, 10, 35, 11, 10, 18, 38, 18, 10, 17,\n",
              "       17,  8, 20, 23])"
            ]
          },
          "metadata": {
            "tags": []
          },
          "execution_count": 134
        }
      ]
    },
    {
      "cell_type": "markdown",
      "metadata": {
        "id": "m1ahm3o2CHCC"
      },
      "source": [
        "# feature importance"
      ]
    },
    {
      "cell_type": "code",
      "metadata": {
        "id": "9sLrxuRa1h2b",
        "outputId": "5e762ca9-ff1a-42d1-9cb6-25387932f292",
        "colab": {
          "base_uri": "https://localhost:8080/",
          "height": 261
        }
      },
      "source": [
        "regr.feature_importances_, features.columns"
      ],
      "execution_count": 135,
      "outputs": [
        {
          "output_type": "execute_result",
          "data": {
            "text/plain": [
              "(array([0.93802008, 0.        , 0.        , 0.        , 0.        ,\n",
              "        0.        , 0.        , 0.        , 0.        , 0.        ,\n",
              "        0.        , 0.        , 0.        , 0.        , 0.        ,\n",
              "        0.        , 0.02946603, 0.        , 0.        , 0.        ,\n",
              "        0.        , 0.        , 0.        , 0.        , 0.03251389,\n",
              "        0.        , 0.        , 0.        , 0.        , 0.        ,\n",
              "        0.        , 0.        , 0.        , 0.        ]),\n",
              " Index(['Age', 'Sex', 'HX_AIDS', 'HX_ALCOHOL', 'HX_ANEMDEF', 'HX_ARTH',\n",
              "        'HX_BLDLOSS', 'HX_CAD', 'HX_CARDARRH', 'HX_CHF', 'HX_CHRNLUNG',\n",
              "        'HX_COAG', 'HX_DEPRESS', 'HX_DM', 'HX_DMCX', 'HX_DRUG', 'HX_HTN',\n",
              "        'HX_HTNCX', 'HX_HYPOTHY', 'HX_LIVER', 'HX_LYMPH', 'HX_LYTES', 'HX_METS',\n",
              "        'HX_NEURO', 'HX_OBESE', 'HX_PARA', 'HX_PERIVASC', 'HX_PSYCH',\n",
              "        'HX_PULMCIRC', 'HX_RENLFAIL', 'HX_TUMOR', 'HX_ULCER', 'HX_VALVE',\n",
              "        'HX_WGHTLOSS'],\n",
              "       dtype='object'))"
            ]
          },
          "metadata": {
            "tags": []
          },
          "execution_count": 135
        }
      ]
    },
    {
      "cell_type": "code",
      "metadata": {
        "id": "OMJnQxhsyC4h",
        "outputId": "4a2b996c-bc7f-422a-dfb8-7e221ed28c72",
        "colab": {
          "base_uri": "https://localhost:8080/",
          "height": 1000
        }
      },
      "source": [
        "# Print the feature ranking\n",
        "# creating an index to sort features \n",
        "# from the most important (highest value) of regr.feature_importances_ to the least important (lowest value)\n",
        "indices = np.argsort(regr.feature_importances_) \n",
        "\n",
        "columns = features.columns[indices] # the colun names ordered by importance\n",
        "\n",
        "print(\"Feature ranking:\")\n",
        "\n",
        "# Plot the impurity-based feature importances of the forest\n",
        "plt.figure(figsize(5,15))\n",
        "plt.title(\"Feature importances\")\n",
        "plt.barh(range(X_train.shape[1]), regr.feature_importances_[indices],\n",
        "        color=\"Steelblue\", align=\"center\")\n",
        "plt.yticks(range(len(columns)), columns);\n",
        "plt.show()\n",
        "\n",
        "for i,f in enumerate(columns):\n",
        "    print(\"{}. feature {}: {:.2f}\".format(i + 1, f, \n",
        "                                   regr.feature_importances_[indices[i]]))\n",
        "#[::-1] reverses index to have high importance first"
      ],
      "execution_count": 136,
      "outputs": [
        {
          "output_type": "stream",
          "text": [
            "Feature ranking:\n"
          ],
          "name": "stdout"
        },
        {
          "output_type": "display_data",
          "data": {
            "image/png": "[encoded data removed]",
            "text/plain": [
              "<Figure size 360x1080 with 1 Axes>"
            ]
          },
          "metadata": {
            "tags": [],
            "needs_background": "light"
          }
        },
        {
          "output_type": "stream",
          "text": [
            "1. feature HX_WGHTLOSS: 0.00\n",
            "2. feature HX_PULMCIRC: 0.00\n",
            "3. feature HX_PSYCH: 0.00\n",
            "4. feature HX_PERIVASC: 0.00\n",
            "5. feature HX_PARA: 0.00\n",
            "6. feature HX_ULCER: 0.00\n",
            "7. feature HX_NEURO: 0.00\n",
            "8. feature HX_METS: 0.00\n",
            "9. feature HX_LYTES: 0.00\n",
            "10. feature HX_LYMPH: 0.00\n",
            "11. feature HX_LIVER: 0.00\n",
            "12. feature HX_HYPOTHY: 0.00\n",
            "13. feature HX_HTNCX: 0.00\n",
            "14. feature HX_VALVE: 0.00\n",
            "15. feature HX_RENLFAIL: 0.00\n",
            "16. feature HX_DRUG: 0.00\n",
            "17. feature HX_DM: 0.00\n",
            "18. feature HX_DEPRESS: 0.00\n",
            "19. feature HX_COAG: 0.00\n",
            "20. feature HX_CHRNLUNG: 0.00\n",
            "21. feature HX_CHF: 0.00\n",
            "22. feature HX_CARDARRH: 0.00\n",
            "23. feature HX_CAD: 0.00\n",
            "24. feature HX_BLDLOSS: 0.00\n",
            "25. feature HX_ARTH: 0.00\n",
            "26. feature HX_ANEMDEF: 0.00\n",
            "27. feature HX_ALCOHOL: 0.00\n",
            "28. feature HX_AIDS: 0.00\n",
            "29. feature Sex: 0.00\n",
            "30. feature HX_DMCX: 0.00\n",
            "31. feature HX_TUMOR: 0.00\n",
            "32. feature HX_HTN: 0.03\n",
            "33. feature HX_OBESE: 0.03\n",
            "34. feature Age: 0.94\n"
          ],
          "name": "stdout"
        }
      ]
    },
    {
      "cell_type": "markdown",
      "metadata": {
        "id": "Y0Zq5IZlyEFE"
      },
      "source": [
        "The length of the bar represents the relative imporance. Importances sum to 1 so you can think of it as a percentage if you wish, but really you should not overinterpret the numnber. \n",
        "Note however a thing:  I want to predict LOS and hypertenson and obesity are covariant and both contribute to LOS identically. Each tree in the RF selects a subset of features to use, the trees that chose hypertention work exactly like the trees that choose obesity. The predictive power of the features is identical, so the importance is split between the 2. \n"
      ]
    },
    {
      "cell_type": "markdown",
      "metadata": {
        "id": "RwaxXI-K5m7u"
      },
      "source": [
        "# rerun the model dropping one of the covariant features"
      ]
    },
    {
      "cell_type": "code",
      "metadata": {
        "id": "dWRa4tsUEnML"
      },
      "source": [
        "features_noob = mockdatadf.drop([\"LOS\", \"HX_OBESE\"], axis=1)\n",
        "\n",
        "from sklearn.model_selection import train_test_split\n",
        "X_train, X_test, y_train, y_test = train_test_split(\n",
        "  features_noob, target, test_size=0.2, random_state=302)\n",
        "\n"
      ],
      "execution_count": 137,
      "outputs": []
    },
    {
      "cell_type": "code",
      "metadata": {
        "id": "AREVIfJ_EsEB",
        "outputId": "88a1e188-98e5-4216-95c8-eafa62dea3f2",
        "colab": {
          "base_uri": "https://localhost:8080/",
          "height": 50
        }
      },
      "source": [
        "regr_noob = RandomForestRegressor(max_depth=3, random_state=302)\n",
        "regr_noob.fit(X_train, y_train)\n",
        "mse = mean_squared_error(y_test, regr_noob.predict(X_test))\n",
        "\n",
        "mse_tr = mean_squared_error(y_train, regr_noob.predict(X_train))\n",
        "\n",
        "print(\"mean sq error of the model on training data {:.2f} ({:.0f}%)\".format(\n",
        "    mse_tr, mse_tr * 100))\n",
        "\n",
        "print(\"mean sq error of the model on test data {:.2f} ({:.0f}%)\".format(\n",
        "    mse, mse * 100))\n"
      ],
      "execution_count": 138,
      "outputs": [
        {
          "output_type": "stream",
          "text": [
            "mean sq error of the model on training data 0.05 (5%)\n",
            "mean sq error of the model on test data 0.05 (5%)\n"
          ],
          "name": "stdout"
        }
      ]
    },
    {
      "cell_type": "markdown",
      "metadata": {
        "id": "o0bSVeSQFHlL"
      },
      "source": [
        "# the fact that the accuracy did not get worse tells me that the feature is not important, in this case because it is entirely covariante with hypertension"
      ]
    },
    {
      "cell_type": "code",
      "metadata": {
        "id": "2Xg-5q_NE5Oo",
        "outputId": "0517f0a8-adf4-47b4-d30b-1b3f2c2ea163",
        "colab": {
          "base_uri": "https://localhost:8080/",
          "height": 1000
        }
      },
      "source": [
        "indices = np.argsort(regr_noob.feature_importances_)\n",
        "\n",
        "columns = features_noob.columns[indices] # the colun names ordered by importance\n",
        "\n",
        "print(\"Feature ranking:\")\n",
        "\n",
        "# Plot the impurity-based feature importances of the forest\n",
        "plt.figure(figsize(5,15))\n",
        "plt.title(\"Feature importances\")\n",
        "plt.barh(range(X_train.shape[1]), regr_noob.feature_importances_[indices],\n",
        "        color=\"Steelblue\", align=\"center\")\n",
        "plt.yticks(range(len(columns)), columns);\n",
        "plt.show()\n",
        "\n",
        "for i,f in enumerate(columns):\n",
        "    print(\"{}. feature {}: {:.2f}\".format(i + 1, f, \n",
        "                                   regr_noob.feature_importances_[indices[i]]))\n",
        "    #[::-1] reverses index to have high importance first"
      ],
      "execution_count": 139,
      "outputs": [
        {
          "output_type": "stream",
          "text": [
            "Feature ranking:\n"
          ],
          "name": "stdout"
        },
        {
          "output_type": "display_data",
          "data": {
            "image/png": "[encoded data removed]",
            "text/plain": [
              "<Figure size 360x1080 with 1 Axes>"
            ]
          },
          "metadata": {
            "tags": [],
            "needs_background": "light"
          }
        },
        {
          "output_type": "stream",
          "text": [
            "1. feature HX_WGHTLOSS: 0.00\n",
            "2. feature HX_RENLFAIL: 0.00\n",
            "3. feature HX_PULMCIRC: 0.00\n",
            "4. feature HX_PSYCH: 0.00\n",
            "5. feature HX_PERIVASC: 0.00\n",
            "6. feature HX_PARA: 0.00\n",
            "7. feature HX_NEURO: 0.00\n",
            "8. feature HX_METS: 0.00\n",
            "9. feature HX_LYTES: 0.00\n",
            "10. feature HX_LYMPH: 0.00\n",
            "11. feature HX_LIVER: 0.00\n",
            "12. feature HX_HYPOTHY: 0.00\n",
            "13. feature HX_HTNCX: 0.00\n",
            "14. feature HX_VALVE: 0.00\n",
            "15. feature HX_TUMOR: 0.00\n",
            "16. feature HX_DRUG: 0.00\n",
            "17. feature HX_DM: 0.00\n",
            "18. feature HX_DEPRESS: 0.00\n",
            "19. feature HX_COAG: 0.00\n",
            "20. feature HX_CHRNLUNG: 0.00\n",
            "21. feature HX_CHF: 0.00\n",
            "22. feature HX_CARDARRH: 0.00\n",
            "23. feature HX_CAD: 0.00\n",
            "24. feature HX_BLDLOSS: 0.00\n",
            "25. feature HX_ARTH: 0.00\n",
            "26. feature HX_ANEMDEF: 0.00\n",
            "27. feature HX_ALCOHOL: 0.00\n",
            "28. feature HX_AIDS: 0.00\n",
            "29. feature Sex: 0.00\n",
            "30. feature HX_DMCX: 0.00\n",
            "31. feature HX_ULCER: 0.00\n",
            "32. feature HX_HTN: 0.06\n",
            "33. feature Age: 0.94\n"
          ],
          "name": "stdout"
        }
      ]
    },
    {
      "cell_type": "markdown",
      "metadata": {
        "id": "VSnofQ_Q-2rb"
      },
      "source": [
        "# categorical target variable instead"
      ]
    },
    {
      "cell_type": "code",
      "metadata": {
        "id": "LLKjC0HLdebS",
        "outputId": "49198860-cdff-4891-d325-7fd4ba405870",
        "colab": {
          "base_uri": "https://localhost:8080/",
          "height": 443
        }
      },
      "source": [
        "from sklearn.ensemble import RandomForestClassifier\n",
        "features = mockdatadf.drop([\"LOS\"], axis=1)\n",
        "\n",
        "#splitting into 4 bins: the 4 quantiles\n",
        "target = pd.qcut( mockdatadf[\"LOS\"], [0, .25, .5, .75, 1.], \n",
        "                 labels=['short', 'medium', 'long', \"verylong\"]).astype('category')\n",
        "\n",
        "X_train, X_test, y_train, y_test = train_test_split(\n",
        "  features, target, test_size=0.2, random_state=302)\n",
        "\n",
        "y_train, y_test"
      ],
      "execution_count": 141,
      "outputs": [
        {
          "output_type": "execute_result",
          "data": {
            "text/plain": [
              "(695    verylong\n",
              " 302        long\n",
              " 144    verylong\n",
              " 382       short\n",
              " 602       short\n",
              "          ...   \n",
              " 466        long\n",
              " 617       short\n",
              " 24        short\n",
              " 446      medium\n",
              " 388      medium\n",
              " Name: LOS, Length: 560, dtype: category\n",
              " Categories (4, object): [short < medium < long < verylong], 639      medium\n",
              " 82     verylong\n",
              " 537        long\n",
              " 188       short\n",
              " 152       short\n",
              "          ...   \n",
              " 146      medium\n",
              " 412      medium\n",
              " 78        short\n",
              " 124      medium\n",
              " 35         long\n",
              " Name: LOS, Length: 140, dtype: category\n",
              " Categories (4, object): [short < medium < long < verylong])"
            ]
          },
          "metadata": {
            "tags": []
          },
          "execution_count": 141
        }
      ]
    },
    {
      "cell_type": "code",
      "metadata": {
        "id": "7mKXYE8q2HJG",
        "outputId": "7a4ae9d9-8cd5-4e04-be88-a4ca5ef1edfd",
        "colab": {
          "base_uri": "https://localhost:8080/",
          "height": 50
        }
      },
      "source": [
        "classf = RandomForestClassifier(max_depth=3, random_state=302)\n",
        "classf.fit(X_train, y_train)\n",
        "\n",
        "\n",
        "print(\"accuracy of the categorical model on training data {:.2f} ({:.0f}%)\".format(\n",
        "    classf.score(X_train, y_train), classf.score(X_train, y_train)*100))\n",
        "print(\"accuracy of the categorical model on test data {:.2f} ({:.0f}%)\".format(\n",
        "        classf.score(X_test, y_test), classf.score(X_test, y_test) * 100))\n",
        "\n"
      ],
      "execution_count": 142,
      "outputs": [
        {
          "output_type": "stream",
          "text": [
            "accuracy of the categorical model on training data 0.90 (90%)\n",
            "accuracy of the categorical model on test data 0.81 (81%)\n"
          ],
          "name": "stdout"
        }
      ]
    },
    {
      "cell_type": "code",
      "metadata": {
        "id": "iN1euQeo2OvU",
        "outputId": "ec2d4489-3b47-4e4f-f13d-7940e6829566",
        "colab": {
          "base_uri": "https://localhost:8080/",
          "height": 1000
        }
      },
      "source": [
        "indices = np.argsort(classf.feature_importances_)\n",
        "\n",
        "columns = features.columns[indices] # the colun names ordered by importance\n",
        "\n",
        "print(\"Feature ranking:\")\n",
        "\n",
        "# Plot the impurity-based feature importances of the forest\n",
        "plt.figure(figsize(5,15))\n",
        "plt.title(\"Feature importances\")\n",
        "plt.barh(range(X_train.shape[1]), classf.feature_importances_[indices],\n",
        "        color=\"Steelblue\", align=\"center\")\n",
        "plt.yticks(range(len(columns)), columns);\n",
        "plt.show()\n",
        "\n",
        "for i,f in enumerate(columns):\n",
        "    print(\"{}. feature {}: {:.2f}\".format(i + 1, f, \n",
        "                                   classf.feature_importances_[indices[i]]))\n",
        "    #[::-1] reverses index to have high importance first"
      ],
      "execution_count": 143,
      "outputs": [
        {
          "output_type": "stream",
          "text": [
            "Feature ranking:\n"
          ],
          "name": "stdout"
        },
        {
          "output_type": "display_data",
          "data": {
            "image/png": "[encoded data removed]",
            "text/plain": [
              "<Figure size 360x1080 with 1 Axes>"
            ]
          },
          "metadata": {
            "tags": [],
            "needs_background": "light"
          }
        },
        {
          "output_type": "stream",
          "text": [
            "1. feature HX_PSYCH: 0.01\n",
            "2. feature HX_TUMOR: 0.01\n",
            "3. feature HX_ANEMDEF: 0.01\n",
            "4. feature HX_PARA: 0.01\n",
            "5. feature HX_DEPRESS: 0.01\n",
            "6. feature HX_CHF: 0.01\n",
            "7. feature HX_HYPOTHY: 0.01\n",
            "8. feature HX_ALCOHOL: 0.01\n",
            "9. feature HX_PULMCIRC: 0.01\n",
            "10. feature HX_CHRNLUNG: 0.01\n",
            "11. feature HX_METS: 0.01\n",
            "12. feature HX_VALVE: 0.01\n",
            "13. feature HX_COAG: 0.01\n",
            "14. feature HX_AIDS: 0.01\n",
            "15. feature HX_ULCER: 0.01\n",
            "16. feature HX_RENLFAIL: 0.01\n",
            "17. feature HX_ARTH: 0.01\n",
            "18. feature HX_NEURO: 0.01\n",
            "19. feature HX_LIVER: 0.01\n",
            "20. feature HX_LYTES: 0.01\n",
            "21. feature HX_DMCX: 0.01\n",
            "22. feature HX_DRUG: 0.01\n",
            "23. feature HX_CAD: 0.01\n",
            "24. feature HX_BLDLOSS: 0.01\n",
            "25. feature HX_CARDARRH: 0.02\n",
            "26. feature HX_HTNCX: 0.02\n",
            "27. feature HX_PERIVASC: 0.02\n",
            "28. feature Sex: 0.02\n",
            "29. feature HX_DM: 0.02\n",
            "30. feature HX_LYMPH: 0.02\n",
            "31. feature HX_WGHTLOSS: 0.02\n",
            "32. feature HX_OBESE: 0.08\n",
            "33. feature HX_HTN: 0.11\n",
            "34. feature Age: 0.44\n"
          ],
          "name": "stdout"
        }
      ]
    },
    {
      "cell_type": "code",
      "metadata": {
        "id": "d-4TGS49-UIc"
      },
      "source": [
        ""
      ],
      "execution_count": 143,
      "outputs": []
    }
  ]
}