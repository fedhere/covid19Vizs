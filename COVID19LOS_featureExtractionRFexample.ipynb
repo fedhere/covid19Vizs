{
  "nbformat": 4,
  "nbformat_minor": 0,
  "metadata": {
    "colab": {
      "name": "COVID19LOS featureExtractionRFexample.ipynb",
      "provenance": [],
      "authorship_tag": "ABX9TyPde+Yy05X/yd5QevAufdAX",
      "include_colab_link": true
    },
    "kernelspec": {
      "name": "python3",
      "display_name": "Python 3"
    }
  },
  "cells": [
    {
      "cell_type": "markdown",
      "metadata": {
        "id": "view-in-github",
        "colab_type": "text"
      },
      "source": [
        "<a href=\"https://colab.research.google.com/github/fedhere/covid19Vizs/blob/master/COVID19LOS_featureExtractionRFexample.ipynb\" target=\"_parent\"><img src=\"https://colab.research.google.com/assets/colab-badge.svg\" alt=\"Open In Colab\"/></a>"
      ]
    },
    {
      "cell_type": "markdown",
      "metadata": {
        "id": "rBSyFjEhs3Jo"
      },
      "source": [
        "# example of how to use random forest (regressor) and extract important features from the model"
      ]
    },
    {
      "cell_type": "code",
      "metadata": {
        "id": "yGZrcS56ivJg",
        "outputId": "c3ee4b2d-f42d-4913-975a-3cf89338b2fc",
        "colab": {
          "base_uri": "https://localhost:8080/",
          "height": 33
        }
      },
      "source": [
        "import pandas as pd\n",
        "import numpy as np\n",
        "import seaborn\n",
        "%pylab inline\n"
      ],
      "execution_count": 89,
      "outputs": [
        {
          "output_type": "stream",
          "text": [
            "Populating the interactive namespace from numpy and matplotlib\n"
          ],
          "name": "stdout"
        }
      ]
    },
    {
      "cell_type": "markdown",
      "metadata": {
        "id": "6jd8N98y5D13"
      },
      "source": [
        "# creating mock data based on the data dictionary you gave us. "
      ]
    },
    {
      "cell_type": "code",
      "metadata": {
        "id": "h0XcWXic5Ht1",
        "outputId": "f82a21ca-eb7a-4e03-c3f8-51218cb57689",
        "colab": {
          "base_uri": "https://localhost:8080/",
          "height": 67
        }
      },
      "source": [
        "mockdatadf = pd.DataFrame(columns=[\"Age\", \"Sex\", \"HX_AIDS\", \"HX_ALCOHOL\", \n",
        "                                  \"HX_ANEMDEF\", \"HX_ARTH\", \"HX_BLDLOSS\", \n",
        "                                  \"HX_CAD\", \"HX_CARDARRH\", \"HX_CHF\", \n",
        "                                  \"HX_CHRNLUNG\", \"HX_COAG\", \"HX_DEPRESS\", \n",
        "                                  \"HX_DM\", \"HX_DMCX\", \"HX_DRUG\", \"HX_HTN\", \n",
        "                                  \"HX_HTNCX\", \"HX_HYPOTHY\", \"HX_LIVER\", \n",
        "                                  \"HX_LYMPH\", \"HX_LYTES\", \"HX_METS\", \"HX_NEURO\", \n",
        "                                  \"HX_OBESE\", \"HX_PARA\", \"HX_PERIVASC\", \n",
        "                                  \"HX_PSYCH\", \"HX_PULMCIRC\", \"HX_RENLFAIL\", \n",
        "                                  \"HX_TUMOR\", \"HX_ULCER\", \"HX_VALVE\", \n",
        "                                  \"HX_WGHTLOSS\"])\n",
        "mockdatadf"
      ],
      "execution_count": 36,
      "outputs": [
        {
          "output_type": "execute_result",
          "data": {
            "text/html": [
              "<div>\n",
              "<style scoped>\n",
              "    .dataframe tbody tr th:only-of-type {\n",
              "        vertical-align: middle;\n",
              "    }\n",
              "\n",
              "    .dataframe tbody tr th {\n",
              "        vertical-align: top;\n",
              "    }\n",
              "\n",
              "    .dataframe thead th {\n",
              "        text-align: right;\n",
              "    }\n",
              "</style>\n",
              "<table border=\"1\" class=\"dataframe\">\n",
              "  <thead>\n",
              "    <tr style=\"text-align: right;\">\n",
              "      <th></th>\n",
              "      <th>Age</th>\n",
              "      <th>Sex</th>\n",
              "      <th>HX_AIDS</th>\n",
              "      <th>HX_ALCOHOL</th>\n",
              "      <th>HX_ANEMDEF</th>\n",
              "      <th>HX_ARTH</th>\n",
              "      <th>HX_BLDLOSS</th>\n",
              "      <th>HX_CAD</th>\n",
              "      <th>HX_CARDARRH</th>\n",
              "      <th>HX_CHF</th>\n",
              "      <th>HX_CHRNLUNG</th>\n",
              "      <th>HX_COAG</th>\n",
              "      <th>HX_DEPRESS</th>\n",
              "      <th>HX_DM</th>\n",
              "      <th>HX_DMCX</th>\n",
              "      <th>HX_DRUG</th>\n",
              "      <th>HX_HTN</th>\n",
              "      <th>HX_HTNCX</th>\n",
              "      <th>HX_HYPOTHY</th>\n",
              "      <th>HX_LIVER</th>\n",
              "      <th>HX_LYMPH</th>\n",
              "      <th>HX_LYTES</th>\n",
              "      <th>HX_METS</th>\n",
              "      <th>HX_NEURO</th>\n",
              "      <th>HX_OBESE</th>\n",
              "      <th>HX_PARA</th>\n",
              "      <th>HX_PERIVASC</th>\n",
              "      <th>HX_PSYCH</th>\n",
              "      <th>HX_PULMCIRC</th>\n",
              "      <th>HX_RENLFAIL</th>\n",
              "      <th>HX_TUMOR</th>\n",
              "      <th>HX_ULCER</th>\n",
              "      <th>HX_VALVE</th>\n",
              "      <th>HX_WGHTLOSS</th>\n",
              "    </tr>\n",
              "  </thead>\n",
              "  <tbody>\n",
              "  </tbody>\n",
              "</table>\n",
              "</div>"
            ],
            "text/plain": [
              "Empty DataFrame\n",
              "Columns: [Age, Sex, HX_AIDS, HX_ALCOHOL, HX_ANEMDEF, HX_ARTH, HX_BLDLOSS, HX_CAD, HX_CARDARRH, HX_CHF, HX_CHRNLUNG, HX_COAG, HX_DEPRESS, HX_DM, HX_DMCX, HX_DRUG, HX_HTN, HX_HTNCX, HX_HYPOTHY, HX_LIVER, HX_LYMPH, HX_LYTES, HX_METS, HX_NEURO, HX_OBESE, HX_PARA, HX_PERIVASC, HX_PSYCH, HX_PULMCIRC, HX_RENLFAIL, HX_TUMOR, HX_ULCER, HX_VALVE, HX_WGHTLOSS]\n",
              "Index: []"
            ]
          },
          "metadata": {
            "tags": []
          },
          "execution_count": 36
        }
      ]
    },
    {
      "cell_type": "code",
      "metadata": {
        "id": "iWcb5ymu7eoe"
      },
      "source": [
        "np.random.seed(302)\n",
        "tmp_ = np.random.randn(1400) * 15 + 60\n",
        "tmp_ = tmp_[(tmp_ >= 18) & (tmp_ <= 100)]\n",
        "\n",
        "mockdatadf[\"Age\"] = tmp_[:700].astype(int)\n",
        "\n",
        "for c in mockdatadf.columns[1:]:\n",
        "  mockdatadf[c] = np.random.randint(0, 2, 700)\n",
        "\n",
        "#made a target variable that depends only on age and hypertension\n",
        "mockdatadf[\"LOS\"] = mockdatadf.Age * 0.1 + mockdatadf.HX_HTN * 3"
      ],
      "execution_count": 50,
      "outputs": []
    },
    {
      "cell_type": "code",
      "metadata": {
        "id": "WAg9gmfwpmpf",
        "outputId": "f2168d56-96e2-4344-d0ee-0f6cd80d169a",
        "colab": {
          "base_uri": "https://localhost:8080/",
          "height": 211
        }
      },
      "source": [
        "mockdatadf.head()"
      ],
      "execution_count": 51,
      "outputs": [
        {
          "output_type": "execute_result",
          "data": {
            "text/html": [
              "<div>\n",
              "<style scoped>\n",
              "    .dataframe tbody tr th:only-of-type {\n",
              "        vertical-align: middle;\n",
              "    }\n",
              "\n",
              "    .dataframe tbody tr th {\n",
              "        vertical-align: top;\n",
              "    }\n",
              "\n",
              "    .dataframe thead th {\n",
              "        text-align: right;\n",
              "    }\n",
              "</style>\n",
              "<table border=\"1\" class=\"dataframe\">\n",
              "  <thead>\n",
              "    <tr style=\"text-align: right;\">\n",
              "      <th></th>\n",
              "      <th>Age</th>\n",
              "      <th>Sex</th>\n",
              "      <th>HX_AIDS</th>\n",
              "      <th>HX_ALCOHOL</th>\n",
              "      <th>HX_ANEMDEF</th>\n",
              "      <th>HX_ARTH</th>\n",
              "      <th>HX_BLDLOSS</th>\n",
              "      <th>HX_CAD</th>\n",
              "      <th>HX_CARDARRH</th>\n",
              "      <th>HX_CHF</th>\n",
              "      <th>HX_CHRNLUNG</th>\n",
              "      <th>HX_COAG</th>\n",
              "      <th>HX_DEPRESS</th>\n",
              "      <th>HX_DM</th>\n",
              "      <th>HX_DMCX</th>\n",
              "      <th>HX_DRUG</th>\n",
              "      <th>HX_HTN</th>\n",
              "      <th>HX_HTNCX</th>\n",
              "      <th>HX_HYPOTHY</th>\n",
              "      <th>HX_LIVER</th>\n",
              "      <th>HX_LYMPH</th>\n",
              "      <th>HX_LYTES</th>\n",
              "      <th>HX_METS</th>\n",
              "      <th>HX_NEURO</th>\n",
              "      <th>HX_OBESE</th>\n",
              "      <th>HX_PARA</th>\n",
              "      <th>HX_PERIVASC</th>\n",
              "      <th>HX_PSYCH</th>\n",
              "      <th>HX_PULMCIRC</th>\n",
              "      <th>HX_RENLFAIL</th>\n",
              "      <th>HX_TUMOR</th>\n",
              "      <th>HX_ULCER</th>\n",
              "      <th>HX_VALVE</th>\n",
              "      <th>HX_WGHTLOSS</th>\n",
              "      <th>LOS</th>\n",
              "    </tr>\n",
              "  </thead>\n",
              "  <tbody>\n",
              "    <tr>\n",
              "      <th>0</th>\n",
              "      <td>76</td>\n",
              "      <td>0</td>\n",
              "      <td>0</td>\n",
              "      <td>0</td>\n",
              "      <td>0</td>\n",
              "      <td>1</td>\n",
              "      <td>0</td>\n",
              "      <td>0</td>\n",
              "      <td>1</td>\n",
              "      <td>0</td>\n",
              "      <td>0</td>\n",
              "      <td>0</td>\n",
              "      <td>0</td>\n",
              "      <td>0</td>\n",
              "      <td>1</td>\n",
              "      <td>1</td>\n",
              "      <td>0</td>\n",
              "      <td>0</td>\n",
              "      <td>0</td>\n",
              "      <td>0</td>\n",
              "      <td>0</td>\n",
              "      <td>0</td>\n",
              "      <td>0</td>\n",
              "      <td>0</td>\n",
              "      <td>1</td>\n",
              "      <td>1</td>\n",
              "      <td>0</td>\n",
              "      <td>1</td>\n",
              "      <td>0</td>\n",
              "      <td>1</td>\n",
              "      <td>1</td>\n",
              "      <td>1</td>\n",
              "      <td>0</td>\n",
              "      <td>0</td>\n",
              "      <td>7.6</td>\n",
              "    </tr>\n",
              "    <tr>\n",
              "      <th>1</th>\n",
              "      <td>66</td>\n",
              "      <td>0</td>\n",
              "      <td>0</td>\n",
              "      <td>1</td>\n",
              "      <td>0</td>\n",
              "      <td>1</td>\n",
              "      <td>1</td>\n",
              "      <td>1</td>\n",
              "      <td>0</td>\n",
              "      <td>1</td>\n",
              "      <td>0</td>\n",
              "      <td>0</td>\n",
              "      <td>0</td>\n",
              "      <td>0</td>\n",
              "      <td>0</td>\n",
              "      <td>0</td>\n",
              "      <td>0</td>\n",
              "      <td>0</td>\n",
              "      <td>0</td>\n",
              "      <td>0</td>\n",
              "      <td>0</td>\n",
              "      <td>0</td>\n",
              "      <td>0</td>\n",
              "      <td>0</td>\n",
              "      <td>0</td>\n",
              "      <td>1</td>\n",
              "      <td>1</td>\n",
              "      <td>0</td>\n",
              "      <td>0</td>\n",
              "      <td>0</td>\n",
              "      <td>0</td>\n",
              "      <td>0</td>\n",
              "      <td>1</td>\n",
              "      <td>1</td>\n",
              "      <td>6.6</td>\n",
              "    </tr>\n",
              "    <tr>\n",
              "      <th>2</th>\n",
              "      <td>78</td>\n",
              "      <td>0</td>\n",
              "      <td>0</td>\n",
              "      <td>0</td>\n",
              "      <td>0</td>\n",
              "      <td>0</td>\n",
              "      <td>1</td>\n",
              "      <td>0</td>\n",
              "      <td>1</td>\n",
              "      <td>1</td>\n",
              "      <td>1</td>\n",
              "      <td>0</td>\n",
              "      <td>1</td>\n",
              "      <td>1</td>\n",
              "      <td>0</td>\n",
              "      <td>1</td>\n",
              "      <td>0</td>\n",
              "      <td>0</td>\n",
              "      <td>1</td>\n",
              "      <td>0</td>\n",
              "      <td>1</td>\n",
              "      <td>1</td>\n",
              "      <td>0</td>\n",
              "      <td>0</td>\n",
              "      <td>1</td>\n",
              "      <td>0</td>\n",
              "      <td>0</td>\n",
              "      <td>0</td>\n",
              "      <td>0</td>\n",
              "      <td>1</td>\n",
              "      <td>0</td>\n",
              "      <td>0</td>\n",
              "      <td>1</td>\n",
              "      <td>1</td>\n",
              "      <td>7.8</td>\n",
              "    </tr>\n",
              "    <tr>\n",
              "      <th>3</th>\n",
              "      <td>47</td>\n",
              "      <td>0</td>\n",
              "      <td>0</td>\n",
              "      <td>1</td>\n",
              "      <td>0</td>\n",
              "      <td>0</td>\n",
              "      <td>1</td>\n",
              "      <td>0</td>\n",
              "      <td>0</td>\n",
              "      <td>0</td>\n",
              "      <td>0</td>\n",
              "      <td>1</td>\n",
              "      <td>0</td>\n",
              "      <td>1</td>\n",
              "      <td>1</td>\n",
              "      <td>0</td>\n",
              "      <td>1</td>\n",
              "      <td>1</td>\n",
              "      <td>0</td>\n",
              "      <td>1</td>\n",
              "      <td>1</td>\n",
              "      <td>0</td>\n",
              "      <td>0</td>\n",
              "      <td>0</td>\n",
              "      <td>0</td>\n",
              "      <td>0</td>\n",
              "      <td>0</td>\n",
              "      <td>0</td>\n",
              "      <td>1</td>\n",
              "      <td>0</td>\n",
              "      <td>0</td>\n",
              "      <td>0</td>\n",
              "      <td>0</td>\n",
              "      <td>1</td>\n",
              "      <td>7.7</td>\n",
              "    </tr>\n",
              "    <tr>\n",
              "      <th>4</th>\n",
              "      <td>96</td>\n",
              "      <td>0</td>\n",
              "      <td>0</td>\n",
              "      <td>1</td>\n",
              "      <td>0</td>\n",
              "      <td>0</td>\n",
              "      <td>0</td>\n",
              "      <td>1</td>\n",
              "      <td>1</td>\n",
              "      <td>1</td>\n",
              "      <td>0</td>\n",
              "      <td>1</td>\n",
              "      <td>0</td>\n",
              "      <td>0</td>\n",
              "      <td>0</td>\n",
              "      <td>0</td>\n",
              "      <td>1</td>\n",
              "      <td>1</td>\n",
              "      <td>0</td>\n",
              "      <td>0</td>\n",
              "      <td>1</td>\n",
              "      <td>0</td>\n",
              "      <td>1</td>\n",
              "      <td>1</td>\n",
              "      <td>1</td>\n",
              "      <td>1</td>\n",
              "      <td>0</td>\n",
              "      <td>0</td>\n",
              "      <td>0</td>\n",
              "      <td>1</td>\n",
              "      <td>1</td>\n",
              "      <td>0</td>\n",
              "      <td>1</td>\n",
              "      <td>1</td>\n",
              "      <td>12.6</td>\n",
              "    </tr>\n",
              "  </tbody>\n",
              "</table>\n",
              "</div>"
            ],
            "text/plain": [
              "   Age  Sex  HX_AIDS  HX_ALCOHOL  ...  HX_ULCER  HX_VALVE  HX_WGHTLOSS   LOS\n",
              "0   76    0        0           0  ...         1         0            0   7.6\n",
              "1   66    0        0           1  ...         0         1            1   6.6\n",
              "2   78    0        0           0  ...         0         1            1   7.8\n",
              "3   47    0        0           1  ...         0         0            1   7.7\n",
              "4   96    0        0           1  ...         0         1            1  12.6\n",
              "\n",
              "[5 rows x 35 columns]"
            ]
          },
          "metadata": {
            "tags": []
          },
          "execution_count": 51
        }
      ]
    },
    {
      "cell_type": "code",
      "metadata": {
        "id": "A6u8lK0RrZn1",
        "outputId": "dbca7e0d-7953-4f19-d9e1-6fe1b68c1076",
        "colab": {
          "base_uri": "https://localhost:8080/",
          "height": 211
        }
      },
      "source": [
        "mockdatadf.tail()"
      ],
      "execution_count": 52,
      "outputs": [
        {
          "output_type": "execute_result",
          "data": {
            "text/html": [
              "<div>\n",
              "<style scoped>\n",
              "    .dataframe tbody tr th:only-of-type {\n",
              "        vertical-align: middle;\n",
              "    }\n",
              "\n",
              "    .dataframe tbody tr th {\n",
              "        vertical-align: top;\n",
              "    }\n",
              "\n",
              "    .dataframe thead th {\n",
              "        text-align: right;\n",
              "    }\n",
              "</style>\n",
              "<table border=\"1\" class=\"dataframe\">\n",
              "  <thead>\n",
              "    <tr style=\"text-align: right;\">\n",
              "      <th></th>\n",
              "      <th>Age</th>\n",
              "      <th>Sex</th>\n",
              "      <th>HX_AIDS</th>\n",
              "      <th>HX_ALCOHOL</th>\n",
              "      <th>HX_ANEMDEF</th>\n",
              "      <th>HX_ARTH</th>\n",
              "      <th>HX_BLDLOSS</th>\n",
              "      <th>HX_CAD</th>\n",
              "      <th>HX_CARDARRH</th>\n",
              "      <th>HX_CHF</th>\n",
              "      <th>HX_CHRNLUNG</th>\n",
              "      <th>HX_COAG</th>\n",
              "      <th>HX_DEPRESS</th>\n",
              "      <th>HX_DM</th>\n",
              "      <th>HX_DMCX</th>\n",
              "      <th>HX_DRUG</th>\n",
              "      <th>HX_HTN</th>\n",
              "      <th>HX_HTNCX</th>\n",
              "      <th>HX_HYPOTHY</th>\n",
              "      <th>HX_LIVER</th>\n",
              "      <th>HX_LYMPH</th>\n",
              "      <th>HX_LYTES</th>\n",
              "      <th>HX_METS</th>\n",
              "      <th>HX_NEURO</th>\n",
              "      <th>HX_OBESE</th>\n",
              "      <th>HX_PARA</th>\n",
              "      <th>HX_PERIVASC</th>\n",
              "      <th>HX_PSYCH</th>\n",
              "      <th>HX_PULMCIRC</th>\n",
              "      <th>HX_RENLFAIL</th>\n",
              "      <th>HX_TUMOR</th>\n",
              "      <th>HX_ULCER</th>\n",
              "      <th>HX_VALVE</th>\n",
              "      <th>HX_WGHTLOSS</th>\n",
              "      <th>LOS</th>\n",
              "    </tr>\n",
              "  </thead>\n",
              "  <tbody>\n",
              "    <tr>\n",
              "      <th>695</th>\n",
              "      <td>71</td>\n",
              "      <td>1</td>\n",
              "      <td>0</td>\n",
              "      <td>0</td>\n",
              "      <td>0</td>\n",
              "      <td>1</td>\n",
              "      <td>1</td>\n",
              "      <td>1</td>\n",
              "      <td>1</td>\n",
              "      <td>1</td>\n",
              "      <td>1</td>\n",
              "      <td>0</td>\n",
              "      <td>1</td>\n",
              "      <td>0</td>\n",
              "      <td>0</td>\n",
              "      <td>0</td>\n",
              "      <td>1</td>\n",
              "      <td>1</td>\n",
              "      <td>1</td>\n",
              "      <td>1</td>\n",
              "      <td>0</td>\n",
              "      <td>1</td>\n",
              "      <td>0</td>\n",
              "      <td>1</td>\n",
              "      <td>1</td>\n",
              "      <td>1</td>\n",
              "      <td>0</td>\n",
              "      <td>1</td>\n",
              "      <td>0</td>\n",
              "      <td>0</td>\n",
              "      <td>1</td>\n",
              "      <td>1</td>\n",
              "      <td>1</td>\n",
              "      <td>0</td>\n",
              "      <td>10.1</td>\n",
              "    </tr>\n",
              "    <tr>\n",
              "      <th>696</th>\n",
              "      <td>63</td>\n",
              "      <td>1</td>\n",
              "      <td>0</td>\n",
              "      <td>1</td>\n",
              "      <td>1</td>\n",
              "      <td>0</td>\n",
              "      <td>0</td>\n",
              "      <td>0</td>\n",
              "      <td>1</td>\n",
              "      <td>0</td>\n",
              "      <td>1</td>\n",
              "      <td>1</td>\n",
              "      <td>1</td>\n",
              "      <td>0</td>\n",
              "      <td>0</td>\n",
              "      <td>0</td>\n",
              "      <td>1</td>\n",
              "      <td>0</td>\n",
              "      <td>1</td>\n",
              "      <td>0</td>\n",
              "      <td>0</td>\n",
              "      <td>0</td>\n",
              "      <td>0</td>\n",
              "      <td>0</td>\n",
              "      <td>0</td>\n",
              "      <td>1</td>\n",
              "      <td>0</td>\n",
              "      <td>0</td>\n",
              "      <td>1</td>\n",
              "      <td>1</td>\n",
              "      <td>0</td>\n",
              "      <td>0</td>\n",
              "      <td>1</td>\n",
              "      <td>0</td>\n",
              "      <td>9.3</td>\n",
              "    </tr>\n",
              "    <tr>\n",
              "      <th>697</th>\n",
              "      <td>41</td>\n",
              "      <td>1</td>\n",
              "      <td>1</td>\n",
              "      <td>0</td>\n",
              "      <td>1</td>\n",
              "      <td>0</td>\n",
              "      <td>0</td>\n",
              "      <td>0</td>\n",
              "      <td>0</td>\n",
              "      <td>0</td>\n",
              "      <td>1</td>\n",
              "      <td>0</td>\n",
              "      <td>0</td>\n",
              "      <td>1</td>\n",
              "      <td>0</td>\n",
              "      <td>1</td>\n",
              "      <td>1</td>\n",
              "      <td>1</td>\n",
              "      <td>0</td>\n",
              "      <td>0</td>\n",
              "      <td>1</td>\n",
              "      <td>0</td>\n",
              "      <td>0</td>\n",
              "      <td>1</td>\n",
              "      <td>0</td>\n",
              "      <td>0</td>\n",
              "      <td>0</td>\n",
              "      <td>1</td>\n",
              "      <td>0</td>\n",
              "      <td>1</td>\n",
              "      <td>0</td>\n",
              "      <td>1</td>\n",
              "      <td>1</td>\n",
              "      <td>0</td>\n",
              "      <td>7.1</td>\n",
              "    </tr>\n",
              "    <tr>\n",
              "      <th>698</th>\n",
              "      <td>53</td>\n",
              "      <td>0</td>\n",
              "      <td>0</td>\n",
              "      <td>1</td>\n",
              "      <td>0</td>\n",
              "      <td>1</td>\n",
              "      <td>1</td>\n",
              "      <td>0</td>\n",
              "      <td>1</td>\n",
              "      <td>0</td>\n",
              "      <td>0</td>\n",
              "      <td>0</td>\n",
              "      <td>0</td>\n",
              "      <td>0</td>\n",
              "      <td>1</td>\n",
              "      <td>1</td>\n",
              "      <td>0</td>\n",
              "      <td>1</td>\n",
              "      <td>1</td>\n",
              "      <td>1</td>\n",
              "      <td>1</td>\n",
              "      <td>1</td>\n",
              "      <td>0</td>\n",
              "      <td>1</td>\n",
              "      <td>0</td>\n",
              "      <td>0</td>\n",
              "      <td>1</td>\n",
              "      <td>0</td>\n",
              "      <td>0</td>\n",
              "      <td>1</td>\n",
              "      <td>1</td>\n",
              "      <td>1</td>\n",
              "      <td>0</td>\n",
              "      <td>1</td>\n",
              "      <td>5.3</td>\n",
              "    </tr>\n",
              "    <tr>\n",
              "      <th>699</th>\n",
              "      <td>62</td>\n",
              "      <td>1</td>\n",
              "      <td>1</td>\n",
              "      <td>0</td>\n",
              "      <td>0</td>\n",
              "      <td>0</td>\n",
              "      <td>1</td>\n",
              "      <td>0</td>\n",
              "      <td>1</td>\n",
              "      <td>0</td>\n",
              "      <td>0</td>\n",
              "      <td>0</td>\n",
              "      <td>0</td>\n",
              "      <td>1</td>\n",
              "      <td>1</td>\n",
              "      <td>1</td>\n",
              "      <td>1</td>\n",
              "      <td>1</td>\n",
              "      <td>1</td>\n",
              "      <td>0</td>\n",
              "      <td>0</td>\n",
              "      <td>1</td>\n",
              "      <td>1</td>\n",
              "      <td>1</td>\n",
              "      <td>1</td>\n",
              "      <td>0</td>\n",
              "      <td>0</td>\n",
              "      <td>1</td>\n",
              "      <td>0</td>\n",
              "      <td>1</td>\n",
              "      <td>0</td>\n",
              "      <td>0</td>\n",
              "      <td>1</td>\n",
              "      <td>0</td>\n",
              "      <td>9.2</td>\n",
              "    </tr>\n",
              "  </tbody>\n",
              "</table>\n",
              "</div>"
            ],
            "text/plain": [
              "     Age  Sex  HX_AIDS  HX_ALCOHOL  ...  HX_ULCER  HX_VALVE  HX_WGHTLOSS   LOS\n",
              "695   71    1        0           0  ...         1         1            0  10.1\n",
              "696   63    1        0           1  ...         0         1            0   9.3\n",
              "697   41    1        1           0  ...         1         1            0   7.1\n",
              "698   53    0        0           1  ...         1         0            1   5.3\n",
              "699   62    1        1           0  ...         0         1            0   9.2\n",
              "\n",
              "[5 rows x 35 columns]"
            ]
          },
          "metadata": {
            "tags": []
          },
          "execution_count": 52
        }
      ]
    },
    {
      "cell_type": "code",
      "metadata": {
        "id": "nCgB0hBI96_0",
        "outputId": "f3d835e7-faf3-4725-86af-03ffa5d2696a",
        "colab": {
          "base_uri": "https://localhost:8080/",
          "height": 278
        }
      },
      "source": [
        "ax = mockdatadf.Age.hist();\n",
        "ax.set_xlabel(\"Age\");"
      ],
      "execution_count": 58,
      "outputs": [
        {
          "output_type": "display_data",
          "data": {
            "image/png": "[encoded data removed]",
            "text/plain": [
              "<Figure size 432x288 with 1 Axes>"
            ]
          },
          "metadata": {
            "tags": [],
            "needs_background": "light"
          }
        }
      ]
    },
    {
      "cell_type": "code",
      "metadata": {
        "id": "l8FA9jkN_qu7",
        "outputId": "77da5829-c783-4ca0-c43b-9f1fd6ed2988",
        "colab": {
          "base_uri": "https://localhost:8080/",
          "height": 278
        }
      },
      "source": [
        "ax = mockdatadf.LOS.hist();\n",
        "ax.set_xlabel(\"LOS (days)\");"
      ],
      "execution_count": 59,
      "outputs": [
        {
          "output_type": "display_data",
          "data": {
            "image/png": "[encoded data removed]",
            "text/plain": [
              "<Figure size 432x288 with 1 Axes>"
            ]
          },
          "metadata": {
            "tags": [],
            "needs_background": "light"
          }
        }
      ]
    },
    {
      "cell_type": "code",
      "metadata": {
        "id": "cMyF0S3__5wx",
        "outputId": "94cc053f-a801-4174-aaba-a3eed1900fbe",
        "colab": {
          "base_uri": "https://localhost:8080/",
          "height": 257
        }
      },
      "source": [
        "mockdatadf.plot.scatter(x=\"Age\", y=\"LOS\", c=\"HX_HTN\", cmap=\"viridis\");\n",
        "ax.set_ylabel(\"LOS (days)\");\n",
        "ax.set_xlabel(\"Age\");"
      ],
      "execution_count": 70,
      "outputs": [
        {
          "output_type": "display_data",
          "data": {
            "image/png": "[encoded data removed]",
            "text/plain": [
              "<Figure size 432x288 with 2 Axes>"
            ]
          },
          "metadata": {
            "tags": [],
            "needs_background": "light"
          }
        }
      ]
    },
    {
      "cell_type": "code",
      "metadata": {
        "id": "0NFlrCXZDxgm"
      },
      "source": [
        "# creating a cmpletely covariant feature: setting obesity to be equal to hypertension\n",
        "\n",
        "mockdatadf[\"HX_OBESE\"] = mockdatadf[\"HX_HTN\"]"
      ],
      "execution_count": 96,
      "outputs": []
    },
    {
      "cell_type": "code",
      "metadata": {
        "id": "efjCvhF3wFgA",
        "outputId": "67031f40-b9b6-40b0-bf97-ac37dc822af5",
        "colab": {
          "base_uri": "https://localhost:8080/",
          "height": 33
        }
      },
      "source": [
        "nrows, ncols = mockdatadf.shape\n",
        "print(\"The shape of the dataframe is nrows: {}, ncolumns: {}\".format(*mockdatadf.shape))"
      ],
      "execution_count": 97,
      "outputs": [
        {
          "output_type": "stream",
          "text": [
            "The shape of the dataframe is nrows: 700, ncolumns: 35\n"
          ],
          "name": "stdout"
        }
      ]
    },
    {
      "cell_type": "code",
      "metadata": {
        "id": "t3BrjLL4vLFB",
        "outputId": "a471f44a-e1ab-47c1-9487-c0da0eaef840",
        "colab": {
          "base_uri": "https://localhost:8080/",
          "height": 33
        }
      },
      "source": [
        "# quick data cleaning: remove NaN (we have none)\n",
        "# note that this drops the entire row if there is a NaN. we can modify it if you want to drop the column or replace the cell value\n",
        "mockdatadf.dropna(inplace=True)\n",
        "mockdatadf.shape"
      ],
      "execution_count": 98,
      "outputs": [
        {
          "output_type": "execute_result",
          "data": {
            "text/plain": [
              "(700, 35)"
            ]
          },
          "metadata": {
            "tags": []
          },
          "execution_count": 98
        }
      ]
    },
    {
      "cell_type": "code",
      "metadata": {
        "id": "g8PEFIbqwbzA",
        "outputId": "ea3610f1-1fec-462c-cef1-6334003aa52d",
        "colab": {
          "base_uri": "https://localhost:8080/",
          "height": 33
        }
      },
      "source": [
        "print(\"I lost {} observations in cleaning, {:.0f}% of the dataset\".format(nrows - mockdatadf.shape[0], (nrows - mockdatadf.shape[0]) / nrows * 100))"
      ],
      "execution_count": 99,
      "outputs": [
        {
          "output_type": "stream",
          "text": [
            "I lost 0 observations in cleaning, 0% of the dataset\n"
          ],
          "name": "stdout"
        }
      ]
    },
    {
      "cell_type": "markdown",
      "metadata": {
        "id": "Fx_acmXKru1W"
      },
      "source": [
        "because i want to predict the LOS cases in this mock example, I will use the random forest regression model in sklearn ```RandomForestRegressor```. If I had a binary target variable (e.g. the death outcome) then I would use the random forest classifier model ```RandomForestClassifier```"
      ]
    },
    {
      "cell_type": "code",
      "metadata": {
        "id": "F6GyCLFKra4o"
      },
      "source": [
        "from sklearn.ensemble import RandomForestRegressor\n",
        "# look here for usage  https://scikit-learn.org/stable/modules/generated/sklearn.ensemble.RandomForestRegressor.html"
      ],
      "execution_count": 100,
      "outputs": []
    },
    {
      "cell_type": "code",
      "metadata": {
        "id": "31852F3AyW-O"
      },
      "source": [
        "# i need to normalize the target variable so i can use the mean sq error as a diagnostic for model success\n",
        "targetmean, targetstd = mockdatadf.LOS.mean(), mockdatadf.LOS.std()"
      ],
      "execution_count": 101,
      "outputs": []
    },
    {
      "cell_type": "code",
      "metadata": {
        "id": "yw7syM4vrkcL"
      },
      "source": [
        "# I don't need to worry a lot about standardizing the features in a random forest because each feature is treated separately. \n",
        "# Models that combine features mathematically require the features to be standardized (or ideally whitened to remove correlation)\n",
        "# But random forest implement decisions on a single feature at a time: its a family of independent binary decision trees\n",
        "\n",
        "# splitting into training ant test set (80% training, 20% test)\n",
        "\n",
        "features = mockdatadf.drop([\"LOS\"], axis=1)\n",
        "target = (mockdatadf.LOS - targetmean) / targetstd\n",
        "\n",
        "from sklearn.model_selection import train_test_split\n",
        "X_train, X_test, y_train, y_test = train_test_split(\n",
        "  features, target, test_size=0.2, random_state=302)\n",
        "\n"
      ],
      "execution_count": 102,
      "outputs": []
    },
    {
      "cell_type": "code",
      "metadata": {
        "id": "4SDE-X8TuaLT",
        "outputId": "9a227308-f084-42b8-c690-ea6f02b6093d",
        "colab": {
          "base_uri": "https://localhost:8080/",
          "height": 131
        }
      },
      "source": [
        "# control the depth of each tree in the forest to avoid overfitting\n",
        "regr = RandomForestRegressor(max_depth=3, random_state=302)\n",
        "regr.fit(X_train, y_train)\n"
      ],
      "execution_count": 103,
      "outputs": [
        {
          "output_type": "execute_result",
          "data": {
            "text/plain": [
              "RandomForestRegressor(bootstrap=True, ccp_alpha=0.0, criterion='mse',\n",
              "                      max_depth=3, max_features='auto', max_leaf_nodes=None,\n",
              "                      max_samples=None, min_impurity_decrease=0.0,\n",
              "                      min_impurity_split=None, min_samples_leaf=1,\n",
              "                      min_samples_split=2, min_weight_fraction_leaf=0.0,\n",
              "                      n_estimators=100, n_jobs=None, oob_score=False,\n",
              "                      random_state=302, verbose=0, warm_start=False)"
            ]
          },
          "metadata": {
            "tags": []
          },
          "execution_count": 103
        }
      ]
    },
    {
      "cell_type": "code",
      "metadata": {
        "id": "lNoDYC2guuzc",
        "outputId": "b4e7be4a-d010-417d-b0c4-a396e9dfbaa4",
        "colab": {
          "base_uri": "https://localhost:8080/",
          "height": 33
        }
      },
      "source": [
        "from sklearn.metrics import mean_squared_error\n",
        "mse = mean_squared_error(y_test, regr.predict(X_test))\n",
        "\n",
        "print(\"mean sq error of the model {:.2f} ({:.0f}%)\".format(\n",
        "    mse, mse * 100))"
      ],
      "execution_count": 104,
      "outputs": [
        {
          "output_type": "stream",
          "text": [
            "mean sq error of the model 0.03 (3%)\n"
          ],
          "name": "stdout"
        }
      ]
    },
    {
      "cell_type": "code",
      "metadata": {
        "id": "wjfTvp8GxSpq",
        "outputId": "328f569e-ea23-4d1e-a7c5-86232f341db8",
        "colab": {
          "base_uri": "https://localhost:8080/",
          "height": 163
        }
      },
      "source": [
        "# If I wanted the predictions I would do \n",
        "(regr.predict(X_test) * targetstd + targetmean).astype(int)"
      ],
      "execution_count": 105,
      "outputs": [
        {
          "output_type": "execute_result",
          "data": {
            "text/plain": [
              "array([ 6, 10,  9,  6,  6,  9,  8,  8,  5, 11, 11,  8,  9,  9,  8,  8,  6,\n",
              "        9,  8,  6,  6,  3,  5,  5,  6,  5,  9,  9,  3,  3,  8,  9,  6,  5,\n",
              "        6,  6,  8,  5,  5,  6,  5,  6,  6,  5,  5,  8,  5,  6,  5,  5,  6,\n",
              "        5,  9,  5,  8,  6,  8,  5,  8, 11,  8,  8,  7,  7,  8,  6,  5,  9,\n",
              "        4,  6,  9,  3,  6,  9,  9,  6,  7,  6,  8,  5,  3,  5,  6,  8,  9,\n",
              "        8,  7,  8,  6,  6,  5,  3,  8,  6,  8,  3,  6, 11,  3,  5,  6,  4,\n",
              "       11,  6,  9,  8,  8,  3,  8,  6,  3,  3,  8, 11,  5,  5,  5,  8,  8,\n",
              "        8,  6,  3,  8, 11,  6,  8,  3,  3, 11,  6,  6,  6, 11,  6,  6,  6,\n",
              "        5,  3,  8,  9])"
            ]
          },
          "metadata": {
            "tags": []
          },
          "execution_count": 105
        }
      ]
    },
    {
      "cell_type": "markdown",
      "metadata": {
        "id": "m1ahm3o2CHCC"
      },
      "source": [
        "# feature importance"
      ]
    },
    {
      "cell_type": "code",
      "metadata": {
        "id": "9sLrxuRa1h2b",
        "outputId": "50d66810-58df-4068-a09c-e133bda18a68",
        "colab": {
          "base_uri": "https://localhost:8080/",
          "height": 261
        }
      },
      "source": [
        "regr.feature_importances_, features.columns"
      ],
      "execution_count": 106,
      "outputs": [
        {
          "output_type": "execute_result",
          "data": {
            "text/plain": [
              "(array([0.47624401, 0.        , 0.        , 0.        , 0.        ,\n",
              "        0.        , 0.        , 0.        , 0.        , 0.        ,\n",
              "        0.        , 0.        , 0.        , 0.        , 0.        ,\n",
              "        0.        , 0.23155088, 0.        , 0.        , 0.        ,\n",
              "        0.        , 0.        , 0.        , 0.        , 0.29220511,\n",
              "        0.        , 0.        , 0.        , 0.        , 0.        ,\n",
              "        0.        , 0.        , 0.        , 0.        ]),\n",
              " Index(['Age', 'Sex', 'HX_AIDS', 'HX_ALCOHOL', 'HX_ANEMDEF', 'HX_ARTH',\n",
              "        'HX_BLDLOSS', 'HX_CAD', 'HX_CARDARRH', 'HX_CHF', 'HX_CHRNLUNG',\n",
              "        'HX_COAG', 'HX_DEPRESS', 'HX_DM', 'HX_DMCX', 'HX_DRUG', 'HX_HTN',\n",
              "        'HX_HTNCX', 'HX_HYPOTHY', 'HX_LIVER', 'HX_LYMPH', 'HX_LYTES', 'HX_METS',\n",
              "        'HX_NEURO', 'HX_OBESE', 'HX_PARA', 'HX_PERIVASC', 'HX_PSYCH',\n",
              "        'HX_PULMCIRC', 'HX_RENLFAIL', 'HX_TUMOR', 'HX_ULCER', 'HX_VALVE',\n",
              "        'HX_WGHTLOSS'],\n",
              "       dtype='object'))"
            ]
          },
          "metadata": {
            "tags": []
          },
          "execution_count": 106
        }
      ]
    },
    {
      "cell_type": "code",
      "metadata": {
        "id": "OMJnQxhsyC4h",
        "outputId": "2cf82d7a-955e-4076-da6a-3bbb63cafdb5",
        "colab": {
          "base_uri": "https://localhost:8080/",
          "height": 1000
        }
      },
      "source": [
        "# Print the feature ranking\n",
        "# creating an index to sort features \n",
        "# from the most importante (highest value) of regr.feature_importances_ to the least important (lowest value)\n",
        "indices = np.argsort(regr.feature_importances_)[::-1] #reverse sorting with [::-1]\n",
        "columns = features.columns[indices] # the colun names ordered by importance\n",
        "\n",
        "print(\"Feature ranking:\")\n",
        "for i,f in enumerate(columns):\n",
        "    print(\"{}. feature {}: {:.2f}\".format(i + 1, f, \n",
        "                                   regr.feature_importances_[indices[i]]))\n",
        "\n",
        "# Plot the impurity-based feature importances of the forest\n",
        "plt.figure(figsize(5,30))\n",
        "plt.title(\"Feature importances\")\n",
        "plt.barh(range(X_train.shape[1]), regr.feature_importances_[indices],\n",
        "        color=\"Steelblue\", align=\"center\")\n",
        "plt.yticks(range(len(columns)), columns);\n"
      ],
      "execution_count": 108,
      "outputs": [
        {
          "output_type": "stream",
          "text": [
            "Feature ranking:\n",
            "1. feature Age: 0.48\n",
            "2. feature HX_OBESE: 0.29\n",
            "3. feature HX_HTN: 0.23\n",
            "4. feature HX_TUMOR: 0.00\n",
            "5. feature HX_DMCX: 0.00\n",
            "6. feature Sex: 0.00\n",
            "7. feature HX_AIDS: 0.00\n",
            "8. feature HX_ALCOHOL: 0.00\n",
            "9. feature HX_ANEMDEF: 0.00\n",
            "10. feature HX_ARTH: 0.00\n",
            "11. feature HX_BLDLOSS: 0.00\n",
            "12. feature HX_CAD: 0.00\n",
            "13. feature HX_CARDARRH: 0.00\n",
            "14. feature HX_CHF: 0.00\n",
            "15. feature HX_CHRNLUNG: 0.00\n",
            "16. feature HX_COAG: 0.00\n",
            "17. feature HX_DEPRESS: 0.00\n",
            "18. feature HX_DM: 0.00\n",
            "19. feature HX_DRUG: 0.00\n",
            "20. feature HX_RENLFAIL: 0.00\n",
            "21. feature HX_VALVE: 0.00\n",
            "22. feature HX_HTNCX: 0.00\n",
            "23. feature HX_HYPOTHY: 0.00\n",
            "24. feature HX_LIVER: 0.00\n",
            "25. feature HX_LYMPH: 0.00\n",
            "26. feature HX_LYTES: 0.00\n",
            "27. feature HX_METS: 0.00\n",
            "28. feature HX_NEURO: 0.00\n",
            "29. feature HX_ULCER: 0.00\n",
            "30. feature HX_PARA: 0.00\n",
            "31. feature HX_PERIVASC: 0.00\n",
            "32. feature HX_PSYCH: 0.00\n",
            "33. feature HX_PULMCIRC: 0.00\n",
            "34. feature HX_WGHTLOSS: 0.00\n"
          ],
          "name": "stdout"
        },
        {
          "output_type": "display_data",
          "data": {
            "image/png": "[encoded data removed]",
            "text/plain": [
              "<Figure size 360x2160 with 1 Axes>"
            ]
          },
          "metadata": {
            "tags": [],
            "needs_background": "light"
          }
        }
      ]
    },
    {
      "cell_type": "markdown",
      "metadata": {
        "id": "Y0Zq5IZlyEFE"
      },
      "source": [
        "The length of the bar represents the relative imporance. Importances sum to 1 so you can think of it as a percentage if you wish, but really you should not overinterpret the numnber. \n",
        "Note however a thing:  I want to predict LOS and hypertenson and obesity are covariant and both contribute to LOS identically. Each tree in the RF selects a subset of features to use, the trees that chose hypertention work exactly like the trees that choose obesity. The predictive power of the features is identical, so the importance is split between the 2. \n"
      ]
    },
    {
      "cell_type": "markdown",
      "metadata": {
        "id": "RwaxXI-K5m7u"
      },
      "source": [
        "# rerun the model dropping one of the covariant features"
      ]
    },
    {
      "cell_type": "code",
      "metadata": {
        "id": "dWRa4tsUEnML"
      },
      "source": [
        "features_noob = mockdatadf.drop([\"LOS\", \"HX_OBESE\"], axis=1)\n",
        "\n",
        "from sklearn.model_selection import train_test_split\n",
        "X_train, X_test, y_train, y_test = train_test_split(\n",
        "  features_noob, target, test_size=0.2, random_state=302)\n",
        "\n"
      ],
      "execution_count": 113,
      "outputs": []
    },
    {
      "cell_type": "code",
      "metadata": {
        "id": "AREVIfJ_EsEB",
        "outputId": "0b06f4e9-a3cc-4dc9-8c22-ec83f11db74a",
        "colab": {
          "base_uri": "https://localhost:8080/",
          "height": 33
        }
      },
      "source": [
        "regr = RandomForestRegressor(max_depth=3, random_state=302)\n",
        "regr.fit(X_train, y_train)\n",
        "mse = mean_squared_error(y_test, regr.predict(X_test))\n",
        "\n",
        "print(\"mean sq error of the model {:.2f} ({:.0f}%)\".format(\n",
        "    mse, mse * 100))"
      ],
      "execution_count": 114,
      "outputs": [
        {
          "output_type": "stream",
          "text": [
            "mean sq error of the model 0.03 (3%)\n"
          ],
          "name": "stdout"
        }
      ]
    },
    {
      "cell_type": "markdown",
      "metadata": {
        "id": "o0bSVeSQFHlL"
      },
      "source": [
        "# the fact that the accuracy did not get worse tells me that the feature is not important, in this case because it is entirely covariante with hypertension"
      ]
    },
    {
      "cell_type": "code",
      "metadata": {
        "id": "2Xg-5q_NE5Oo",
        "outputId": "fe56c7eb-5068-435d-c7ae-c2a052ed3d42",
        "colab": {
          "base_uri": "https://localhost:8080/",
          "height": 1000
        }
      },
      "source": [
        "indices = np.argsort(regr.feature_importances_)[::-1] #reverse sorting with [::-1]\n",
        "columns = features_noob.columns[indices] # the colun names ordered by importance\n",
        "\n",
        "print(\"Feature ranking:\")\n",
        "for i,f in enumerate(columns):\n",
        "    print(\"{}. feature {}: {:.2f}\".format(i + 1, f, \n",
        "                                   regr.feature_importances_[indices[i]]))\n",
        "\n",
        "# Plot the impurity-based feature importances of the forest\n",
        "plt.figure(figsize(5,30))\n",
        "plt.title(\"Feature importances\")\n",
        "plt.barh(range(X_train.shape[1]), regr.feature_importances_[indices],\n",
        "        color=\"Steelblue\", align=\"center\")\n",
        "plt.yticks(range(len(columns)), columns);\n"
      ],
      "execution_count": 116,
      "outputs": [
        {
          "output_type": "stream",
          "text": [
            "Feature ranking:\n",
            "1. feature HX_HTN: 0.52\n",
            "2. feature Age: 0.48\n",
            "3. feature HX_ULCER: 0.00\n",
            "4. feature HX_DMCX: 0.00\n",
            "5. feature Sex: 0.00\n",
            "6. feature HX_AIDS: 0.00\n",
            "7. feature HX_ALCOHOL: 0.00\n",
            "8. feature HX_ANEMDEF: 0.00\n",
            "9. feature HX_ARTH: 0.00\n",
            "10. feature HX_BLDLOSS: 0.00\n",
            "11. feature HX_CAD: 0.00\n",
            "12. feature HX_CARDARRH: 0.00\n",
            "13. feature HX_CHF: 0.00\n",
            "14. feature HX_CHRNLUNG: 0.00\n",
            "15. feature HX_COAG: 0.00\n",
            "16. feature HX_DEPRESS: 0.00\n",
            "17. feature HX_DM: 0.00\n",
            "18. feature HX_DRUG: 0.00\n",
            "19. feature HX_TUMOR: 0.00\n",
            "20. feature HX_VALVE: 0.00\n",
            "21. feature HX_HTNCX: 0.00\n",
            "22. feature HX_HYPOTHY: 0.00\n",
            "23. feature HX_LIVER: 0.00\n",
            "24. feature HX_LYMPH: 0.00\n",
            "25. feature HX_LYTES: 0.00\n",
            "26. feature HX_METS: 0.00\n",
            "27. feature HX_NEURO: 0.00\n",
            "28. feature HX_PARA: 0.00\n",
            "29. feature HX_PERIVASC: 0.00\n",
            "30. feature HX_PSYCH: 0.00\n",
            "31. feature HX_PULMCIRC: 0.00\n",
            "32. feature HX_RENLFAIL: 0.00\n",
            "33. feature HX_WGHTLOSS: 0.00\n"
          ],
          "name": "stdout"
        },
        {
          "output_type": "display_data",
          "data": {
            "image/png": "[encoded data removed]",
            "text/plain": [
              "<Figure size 360x2160 with 1 Axes>"
            ]
          },
          "metadata": {
            "tags": [],
            "needs_background": "light"
          }
        }
      ]
    }
  ]
}