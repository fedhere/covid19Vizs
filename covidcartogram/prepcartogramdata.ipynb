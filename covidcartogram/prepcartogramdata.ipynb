{
 "cells": [
  {
   "cell_type": "code",
   "execution_count": 231,
   "metadata": {
    "ExecuteTime": {
     "end_time": "2020-03-25T03:40:55.086410Z",
     "start_time": "2020-03-25T03:40:55.042217Z"
    }
   },
   "outputs": [],
   "source": [
    "import pandas as pd\n",
    "\n"
   ]
  },
  {
   "cell_type": "code",
   "execution_count": 232,
   "metadata": {
    "ExecuteTime": {
     "end_time": "2020-03-25T03:40:56.161771Z",
     "start_time": "2020-03-25T03:40:55.673526Z"
    }
   },
   "outputs": [],
   "source": [
    "deaths = pd.read_csv(\"https://raw.githubusercontent.com/\" + \n",
    "                     \"CSSEGISandData/COVID-19/master/\" + \n",
    "                     \"csse_covid_19_data/csse_covid_19_time_series/\" + \n",
    "                     \"time_series_19-covid-Deaths.csv\")"
   ]
  },
  {
   "cell_type": "code",
   "execution_count": 233,
   "metadata": {
    "ExecuteTime": {
     "end_time": "2020-03-25T03:40:56.622623Z",
     "start_time": "2020-03-25T03:40:56.597828Z"
    }
   },
   "outputs": [],
   "source": [
    "deaths = deaths[[bool(~((isinstance(i, str)) and (',' in i))) for i in deaths[\"Province/State\"]]]"
   ]
  },
  {
   "cell_type": "code",
   "execution_count": 234,
   "metadata": {
    "ExecuteTime": {
     "end_time": "2020-03-25T03:40:56.938976Z",
     "start_time": "2020-03-25T03:40:56.899151Z"
    }
   },
   "outputs": [],
   "source": [
    "deaths = deaths.groupby(\"Country/Region\").sum().reset_index()"
   ]
  },
  {
   "cell_type": "code",
   "execution_count": 235,
   "metadata": {
    "ExecuteTime": {
     "end_time": "2020-03-25T03:40:57.155138Z",
     "start_time": "2020-03-25T03:40:57.143686Z"
    }
   },
   "outputs": [
    {
     "data": {
      "text/plain": [
       "'3/23/20'"
      ]
     },
     "execution_count": 235,
     "metadata": {},
     "output_type": "execute_result"
    }
   ],
   "source": [
    "deaths.columns[-1]"
   ]
  },
  {
   "cell_type": "code",
   "execution_count": null,
   "metadata": {},
   "outputs": [],
   "source": []
  },
  {
   "cell_type": "code",
   "execution_count": 236,
   "metadata": {
    "ExecuteTime": {
     "end_time": "2020-03-25T03:40:58.915233Z",
     "start_time": "2020-03-25T03:40:58.057703Z"
    }
   },
   "outputs": [
    {
     "data": {
      "text/html": [
       "<div>\n",
       "<style scoped>\n",
       "    .dataframe tbody tr th:only-of-type {\n",
       "        vertical-align: middle;\n",
       "    }\n",
       "\n",
       "    .dataframe tbody tr th {\n",
       "        vertical-align: top;\n",
       "    }\n",
       "\n",
       "    .dataframe thead th {\n",
       "        text-align: right;\n",
       "    }\n",
       "</style>\n",
       "<table border=\"1\" class=\"dataframe\">\n",
       "  <thead>\n",
       "    <tr style=\"text-align: right;\">\n",
       "      <th></th>\n",
       "      <th>name</th>\n",
       "      <th>feb15</th>\n",
       "      <th>mar1</th>\n",
       "      <th>mar15</th>\n",
       "      <th>today</th>\n",
       "    </tr>\n",
       "  </thead>\n",
       "  <tbody>\n",
       "    <tr>\n",
       "      <th>178</th>\n",
       "      <td>Uzbekistan</td>\n",
       "      <td>0</td>\n",
       "      <td>0</td>\n",
       "      <td>0</td>\n",
       "      <td>0.0</td>\n",
       "    </tr>\n",
       "    <tr>\n",
       "      <th>179</th>\n",
       "      <td>Venezuela</td>\n",
       "      <td>0</td>\n",
       "      <td>0</td>\n",
       "      <td>0</td>\n",
       "      <td>0.0</td>\n",
       "    </tr>\n",
       "    <tr>\n",
       "      <th>180</th>\n",
       "      <td>Vietnam</td>\n",
       "      <td>0</td>\n",
       "      <td>0</td>\n",
       "      <td>0</td>\n",
       "      <td>0.0</td>\n",
       "    </tr>\n",
       "    <tr>\n",
       "      <th>181</th>\n",
       "      <td>Zambia</td>\n",
       "      <td>0</td>\n",
       "      <td>0</td>\n",
       "      <td>0</td>\n",
       "      <td>0.0</td>\n",
       "    </tr>\n",
       "    <tr>\n",
       "      <th>182</th>\n",
       "      <td>Zimbabwe</td>\n",
       "      <td>0</td>\n",
       "      <td>0</td>\n",
       "      <td>0</td>\n",
       "      <td>0.0</td>\n",
       "    </tr>\n",
       "  </tbody>\n",
       "</table>\n",
       "</div>"
      ],
      "text/plain": [
       "           name  feb15  mar1  mar15  today\n",
       "178  Uzbekistan      0     0      0    0.0\n",
       "179   Venezuela      0     0      0    0.0\n",
       "180     Vietnam      0     0      0    0.0\n",
       "181      Zambia      0     0      0    0.0\n",
       "182    Zimbabwe      0     0      0    0.0"
      ]
     },
     "execution_count": 236,
     "metadata": {},
     "output_type": "execute_result"
    }
   ],
   "source": [
    "deaths = deaths[[\"Country/Region\", \n",
    "                 \"2/15/20\", \"3/1/20\", \"3/15/20\", \n",
    "                 deaths.columns[-1]]]\n",
    "deaths.rename({deaths.columns[-1]: \"today\",\n",
    "                          \"Country/Region\": \"name\",\n",
    "                           \"2/15/20\": \"feb15\",\n",
    "                           \"3/1/20\": \"mar1\", \n",
    "                           \"3/15/20\": \"mar15\"}, axis=1, inplace=True)\n",
    "deaths.sort_values(by=\"name\")\n",
    "deaths.tail()"
   ]
  },
  {
   "cell_type": "code",
   "execution_count": 237,
   "metadata": {
    "ExecuteTime": {
     "end_time": "2020-03-25T03:40:59.400405Z",
     "start_time": "2020-03-25T03:40:59.393858Z"
    }
   },
   "outputs": [
    {
     "data": {
      "text/plain": [
       "Index(['name', 'feb15', 'mar1', 'mar15', 'today'], dtype='object')"
      ]
     },
     "execution_count": 237,
     "metadata": {},
     "output_type": "execute_result"
    }
   ],
   "source": [
    "deaths.columns"
   ]
  },
  {
   "cell_type": "code",
   "execution_count": 238,
   "metadata": {
    "ExecuteTime": {
     "end_time": "2020-03-25T03:40:59.662044Z",
     "start_time": "2020-03-25T03:40:59.642175Z"
    }
   },
   "outputs": [
    {
     "data": {
      "text/html": [
       "<div>\n",
       "<style scoped>\n",
       "    .dataframe tbody tr th:only-of-type {\n",
       "        vertical-align: middle;\n",
       "    }\n",
       "\n",
       "    .dataframe tbody tr th {\n",
       "        vertical-align: top;\n",
       "    }\n",
       "\n",
       "    .dataframe thead th {\n",
       "        text-align: right;\n",
       "    }\n",
       "</style>\n",
       "<table border=\"1\" class=\"dataframe\">\n",
       "  <thead>\n",
       "    <tr style=\"text-align: right;\">\n",
       "      <th></th>\n",
       "      <th>name</th>\n",
       "      <th>feb15</th>\n",
       "      <th>mar1</th>\n",
       "      <th>mar15</th>\n",
       "      <th>today</th>\n",
       "    </tr>\n",
       "  </thead>\n",
       "  <tbody>\n",
       "    <tr>\n",
       "      <th>0</th>\n",
       "      <td>Yemen</td>\n",
       "      <td>0</td>\n",
       "      <td>0</td>\n",
       "      <td>0</td>\n",
       "      <td>0</td>\n",
       "    </tr>\n",
       "  </tbody>\n",
       "</table>\n",
       "</div>"
      ],
      "text/plain": [
       "    name  feb15  mar1  mar15  today\n",
       "0  Yemen      0     0      0      0"
      ]
     },
     "execution_count": 238,
     "metadata": {},
     "output_type": "execute_result"
    }
   ],
   "source": [
    "pd.DataFrame.from_dict({'name': [name], 'feb15': [0], 'mar1': [0],  \n",
    "               'mar15': [0],  'today': [0]})"
   ]
  },
  {
   "cell_type": "code",
   "execution_count": 239,
   "metadata": {
    "ExecuteTime": {
     "end_time": "2020-03-25T03:41:00.313238Z",
     "start_time": "2020-03-25T03:41:00.150129Z"
    }
   },
   "outputs": [
    {
     "data": {
      "text/html": [
       "<div>\n",
       "<style scoped>\n",
       "    .dataframe tbody tr th:only-of-type {\n",
       "        vertical-align: middle;\n",
       "    }\n",
       "\n",
       "    .dataframe tbody tr th {\n",
       "        vertical-align: top;\n",
       "    }\n",
       "\n",
       "    .dataframe thead th {\n",
       "        text-align: right;\n",
       "    }\n",
       "</style>\n",
       "<table border=\"1\" class=\"dataframe\">\n",
       "  <thead>\n",
       "    <tr style=\"text-align: right;\">\n",
       "      <th></th>\n",
       "      <th>name</th>\n",
       "      <th>feb15</th>\n",
       "      <th>mar1</th>\n",
       "      <th>mar15</th>\n",
       "      <th>today</th>\n",
       "    </tr>\n",
       "  </thead>\n",
       "  <tbody>\n",
       "    <tr>\n",
       "      <th>0</th>\n",
       "      <td>Afghanistan</td>\n",
       "      <td>1</td>\n",
       "      <td>1</td>\n",
       "      <td>1</td>\n",
       "      <td>2.0</td>\n",
       "    </tr>\n",
       "    <tr>\n",
       "      <th>1</th>\n",
       "      <td>Albania</td>\n",
       "      <td>1</td>\n",
       "      <td>1</td>\n",
       "      <td>2</td>\n",
       "      <td>3.0</td>\n",
       "    </tr>\n",
       "    <tr>\n",
       "      <th>2</th>\n",
       "      <td>Algeria</td>\n",
       "      <td>1</td>\n",
       "      <td>1</td>\n",
       "      <td>5</td>\n",
       "      <td>18.0</td>\n",
       "    </tr>\n",
       "    <tr>\n",
       "      <th>3</th>\n",
       "      <td>Andorra</td>\n",
       "      <td>1</td>\n",
       "      <td>1</td>\n",
       "      <td>1</td>\n",
       "      <td>2.0</td>\n",
       "    </tr>\n",
       "    <tr>\n",
       "      <th>4</th>\n",
       "      <td>Angola</td>\n",
       "      <td>1</td>\n",
       "      <td>1</td>\n",
       "      <td>1</td>\n",
       "      <td>1.0</td>\n",
       "    </tr>\n",
       "  </tbody>\n",
       "</table>\n",
       "</div>"
      ],
      "text/plain": [
       "          name  feb15  mar1  mar15  today\n",
       "0  Afghanistan      1     1      1    2.0\n",
       "1      Albania      1     1      2    3.0\n",
       "2      Algeria      1     1      5   18.0\n",
       "3      Andorra      1     1      1    2.0\n",
       "4       Angola      1     1      1    1.0"
      ]
     },
     "execution_count": 239,
     "metadata": {},
     "output_type": "execute_result"
    }
   ],
   "source": [
    "names = [\"Antarctica\", \"French Southern and Antarctic Lands\", \"Burundi\",\n",
    "        \"Belize\", \"Botswana\", \"Northern Cyprus\", \"Falkland Islands\",\n",
    "        \"Guinea Bissau\", \"Laos\", \"Libya\", \"Lesotho\", \"Mali\", \"Myanmar\",\n",
    "        \"Malawi\", \"New Caledonia\", \"North Korea\", \"Western Sahara\", \n",
    "        \"South Sudan\", \"Solomon Islands\", \"Sierra Leone\", \"Somaliland\",\n",
    "        \"Swaziland\", \"Tajikistan\", \"Turkmenistan\", \"Vanuatu\",\n",
    "        \"United Republic of Tanzania\", \"West Bank\", \"Yemen\"]\n",
    "for name in names:\n",
    "    if name not in deaths.name.values:\n",
    "        \n",
    "        deaths = pd.concat([deaths, pd.DataFrame.from_dict({'name': [name], \n",
    "                            'feb15': [0], 'mar1': [0],  \n",
    "               'mar15': [0],  'today': [0]})])\n",
    "        \n",
    "deaths.replace(\"Cote d'Ivoire\", \"Ivory Coast\", inplace=True)\n",
    "deaths.replace(\"Congo (Kinshasa)\", \"Democratic Republic of the Congo\", \n",
    "               inplace=True)\n",
    "deaths.replace(\"Czechia\", \"Czech Republic\", inplace=True)\n",
    "deaths.replace(\"Gambia, The\", \"Gambia\", inplace=True)\n",
    "deaths.replace(\"Korea, South\", \"South Korea\", inplace=True)\n",
    "deaths.replace(\"North Macedonia\", \"Macedonia\", inplace=True)\n",
    "deaths.replace(\"Serbia\", \"Republic of Serbia\", inplace=True)\n",
    "deaths.replace(\"Taiwan*\", \"Taiwan\", inplace=True)\n",
    "deaths.replace(\"US\", \"United States of America\", inplace=True)\n",
    "\n",
    "deaths.iloc[:,1:] = deaths.values[:,1:] +1\n",
    "deaths.to_csv(\"data/deaths.csv\", index=False)\n",
    "\n",
    "deaths.head()"
   ]
  },
  {
   "cell_type": "code",
   "execution_count": 240,
   "metadata": {
    "ExecuteTime": {
     "end_time": "2020-03-25T03:42:13.484118Z",
     "start_time": "2020-03-25T03:42:13.277127Z"
    }
   },
   "outputs": [
    {
     "name": "stdout",
     "output_type": "stream",
     "text": [
      "/Users/fbb/Dropbox/covid19Vizs\r\n"
     ]
    }
   ],
   "source": [
    "!pwd"
   ]
  },
  {
   "cell_type": "code",
   "execution_count": null,
   "metadata": {},
   "outputs": [],
   "source": []
  },
  {
   "cell_type": "code",
   "execution_count": null,
   "metadata": {},
   "outputs": [],
   "source": []
  },
  {
   "cell_type": "code",
   "execution_count": null,
   "metadata": {},
   "outputs": [],
   "source": []
  },
  {
   "cell_type": "code",
   "execution_count": null,
   "metadata": {},
   "outputs": [],
   "source": []
  }
 ],
 "metadata": {
  "kernelspec": {
   "display_name": "Python 3",
   "language": "python",
   "name": "python3"
  },
  "language_info": {
   "codemirror_mode": {
    "name": "ipython",
    "version": 3
   },
   "file_extension": ".py",
   "mimetype": "text/x-python",
   "name": "python",
   "nbconvert_exporter": "python",
   "pygments_lexer": "ipython3",
   "version": "3.7.3"
  },
  "latex_envs": {
   "LaTeX_envs_menu_present": true,
   "autoclose": false,
   "autocomplete": true,
   "bibliofile": "biblio.bib",
   "cite_by": "apalike",
   "current_citInitial": 1,
   "eqLabelWithNumbers": true,
   "eqNumInitial": 1,
   "hotkeys": {
    "equation": "Ctrl-E",
    "itemize": "Ctrl-I"
   },
   "labels_anchors": false,
   "latex_user_defs": false,
   "report_style_numbering": false,
   "user_envs_cfg": false
  },
  "nbTranslate": {
   "displayLangs": [
    "*"
   ],
   "hotkey": "alt-t",
   "langInMainMenu": true,
   "sourceLang": "en",
   "targetLang": "fr",
   "useGoogleTranslate": true
  },
  "toc": {
   "base_numbering": 1,
   "nav_menu": {},
   "number_sections": true,
   "sideBar": true,
   "skip_h1_title": false,
   "title_cell": "Table of Contents",
   "title_sidebar": "Contents",
   "toc_cell": false,
   "toc_position": {},
   "toc_section_display": true,
   "toc_window_display": false
  }
 },
 "nbformat": 4,
 "nbformat_minor": 2
}
